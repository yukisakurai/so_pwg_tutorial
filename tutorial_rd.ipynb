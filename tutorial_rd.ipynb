{
 "cells": [
  {
   "cell_type": "markdown",
   "id": "a35836ec-f0c4-4018-bf40-f83be73f684b",
   "metadata": {},
   "source": [
    "# This software tutorial is based on pwg-tutorials\n",
    "https://github.com/simonsobs/pwg-tutorials<br>\n",
    "ipython notebook<br>\n",
    "https://github.com/simonsobs/pwg-tutorials/blob/master/sotodlib_G3tSMuRF_Tutorial_20220201.ipynb"
   ]
  },
  {
   "cell_type": "markdown",
   "id": "3757dfac-a04e-4e90-b515-6966221acf22",
   "metadata": {},
   "source": [
    "## Software Packages \n",
    "\n",
    "#### [`spt3g-software`](https://github.com/CMB-S4/spt3g_software)\n",
    "Defines the SO saved file format and software for interfacing with the files. (Also, a lot of other things SO isn't using at the moment). \n",
    "\n",
    "#### [`so3g`](https://github.com/simonsobs/so3g)\n",
    "SO specific extensions to SPT3G-software. Contains a combination of DAQ and TOD2Maps software. Anything built in C++ is in this repository.\n",
    "\n",
    "Documentation is on readthedocs here: https://so3g.readthedocs.io/en/latest/\n",
    "\n",
    "#### [`sotodlib`](https://github.com/simonsobs/sotodlib)\n",
    "Data processing for the SO time ordered data software stack. Includes simulation setups, data loading, and processing. At this point this is a completely python based library.\n",
    "\n",
    "Documentation is on readthedocs here: https://sotodlib.readthedocs.io/en/latest/"
   ]
  },
  {
   "cell_type": "markdown",
   "id": "76fe6b38-9339-4cd2-aaef-7bf0a13fc3a4",
   "metadata": {
    "tags": []
   },
   "source": [
    "## Import libraries\n",
    "Import SO related libraries like so3g, sotodlib<br>\n",
    "If you see any error after this, check the name of kernel. The kernel name must be soenv_20220401 at UTokyo workstation."
   ]
  },
  {
   "cell_type": "code",
   "execution_count": 1,
   "id": "db075158-08f0-4a03-8dfe-ae0d008cae06",
   "metadata": {},
   "outputs": [],
   "source": [
    "%matplotlib inline\n",
    "\n",
    "import numpy as np\n",
    "import datetime as dt\n",
    "import time as tm\n",
    "import matplotlib.pyplot as plt\n",
    "\n",
    "import sqlalchemy as db\n",
    "\n",
    "from so3g.proj import Ranges, RangesMatrix\n",
    "\n",
    "import sotodlib.core as core\n",
    "from sotodlib.io.load_smurf import (G3tSmurf, Observations, TuneSets, \\\n",
    "                                    Channels, Files, ChanAssignments)\n",
    "from sotodlib.io.load_smurf import load_file\n",
    "\n",
    "import sotodlib.tod_ops.filters as filters\n",
    "from sotodlib.tod_ops import fourier_filter, rfft, detrend_tod\n",
    "\n",
    "from sotodlib.core import FlagManager\n",
    "import sotodlib.flags as flags"
   ]
  },
  {
   "cell_type": "markdown",
   "id": "350c9c16-f28a-4266-add9-e527a3207823",
   "metadata": {},
   "source": [
    "## File System\n",
    "\n",
    "\n",
    "#### On `simons1`, each lab has a base directory of `/mnt/so1/data/<lab-location>/`\n",
    "\n",
    "Within that base directory we have all configured our Smurf systems / OCS such that the file system is:\n",
    "\n",
    "* `timestreams/`\n",
    "    * `<5 digit ctime>/`\n",
    "        * `<stream-id>/` (stream id generally takes the form of crateXslotY)\n",
    "            * `<10 digit ctime>_XYZ.g3` -- All the written out g3 files\n",
    "* `smurf/`\n",
    "    * `<5 digit ctime>/`\n",
    "        * `<stream-id>/` (stream id generally takes the form of crateXslotY)\n",
    "            * `<10 digit ctime>_smurf_action/` \n",
    "                * `outputs/` -- outputs from `pysmurf`/`sodetlib` during action\n",
    "                * `plots/` -- plots made by `pysmurf`/`sodetlib` during action\n",
    "* `hk/`\n",
    "    * `<5 digit ctime>/`\n",
    "        * `<10 digit ctime>.g3` -- output housekeeping data\n",
    "        \n",
    "    \n"
   ]
  },
  {
   "cell_type": "markdown",
   "id": "06f301e0-be84-4dd2-9fb9-6e2ad5afcdaa",
   "metadata": {},
   "source": [
    "## `G3tSmurf` Databasing\n",
    "\n",
    "The `G3tSmurf` system uses the SO file system and save patterns to build a set of databases needed to locate data. Updating the databases requires running a few pre-defined commands on an existing database (or to build a new one). From scratch, these databases currently take between minutes to ~hour to build and will scale as we get more data. **Katie recommends that each lab have their own person responsible for building a shared database and that that person sets up a cronjob to update these automatically. [There are docs and a specific script for this](https://sotodlib.readthedocs.io/en/latest/g3tsmurf.html#database-creation-and-upkeep).**\n",
    "\n",
    "The Databasing and their queries are currently built using `SQLAlchemy`. This is a nice python way of connecting to an sqlite database, both for building databases and running queries. There are examples of queries in the cells below but for a more comprehensive guide look for SQLAlchemy Tutorials such as: https://docs.sqlalchemy.org/en/14/orm/tutorial.html#querying\n",
    "\n",
    "### Databases\n",
    "\n",
    "A more up-to-date description of the databases maybe [in the docs]( https://sotodlib.readthedocs.io/en/latest/g3tsmurf.html#module-sotodlib.io.g3tsmurf_db).\n",
    "\n",
    "#### Observations\n",
    "\n",
    "These are made every time specific SMuRF actions are found in the `smurf/` archive. We are currently indexing:  \n",
    "* take_stream_data\n",
    "* stream_data_on\n",
    "* take_noise_psd \n",
    "* take_g3_data\n",
    "* stream_g3_on\n",
    "\n",
    "This can be expanded as desired\n",
    "\n",
    "#### TuneSets / Tunes\n",
    "\n",
    "Tunes: indexes every Tune file. \n",
    "TuneSets: indexes every Tune file where the channel assignments have changed\n",
    "\n",
    "#### Channels\n",
    "\n",
    "All SMuRF channels we've found in the channel assignments. We make a new set every time there's a new channel assignment\n",
    "\n",
    "* channel names: `<ctime>_<stream_id>_A_BBB` where `A` is SMuRF band and `BBB` is SMuRF Channel. \n",
    "    * ctime is the ctime of the associated channel assignment for that channel. \n",
    "* Also tracks: channel, subband, frequency\n",
    "\n",
    "#### Files\n",
    "Indexes all .g3 files, whether or not they are part of an observation."
   ]
  },
  {
   "cell_type": "markdown",
   "id": "c72ed63b-98e6-47c3-8906-521b04f51de6",
   "metadata": {},
   "source": [
    "## Connect to G3tSmurf\n",
    "\n",
    "Create instance of G3tSmurf class<br>\n",
    "archive_path: directory of timestream(time ordered data)、meta_path: directory of metadata (tuning data etc)、db_path: file name of SQLite database<br>\n",
    "SMURF.Session(): generate sqlalchemy session<br>\n",
    "sqlalchemy: sqlite toolkit<br>\n",
    "https://www.sqlalchemy.org/<br>\n",
    "SQLAlchemy is the Python SQL toolkit and Object Relational Mapper that gives application developers the full power and flexibility of SQL."
   ]
  },
  {
   "cell_type": "code",
   "execution_count": 2,
   "id": "251b765e-4d6e-4251-a517-8e47de842e5e",
   "metadata": {},
   "outputs": [],
   "source": [
    "SMURF = G3tSmurf(archive_path= '/homes/kkiuchi/pwg-tutorials/data/timestreams',\n",
    "                meta_path = '/homes/kkiuchi/pwg-tutorials/data/smurf',\n",
    "                db_path='/homes/kkiuchi/pwg-tutorials/frames.db')\n",
    "session = SMURF.Session()"
   ]
  },
  {
   "cell_type": "markdown",
   "id": "23b92cb0-f7a3-43df-9858-3bf5116262f1",
   "metadata": {},
   "source": [
    "## Querying Databases\n",
    "#### Search observation\n",
    "You can find observation using querying sqlite database via SQLAlchemy"
   ]
  },
  {
   "cell_type": "code",
   "execution_count": 3,
   "id": "1d4d78c9-533d-499d-888c-ed37454406c3",
   "metadata": {},
   "outputs": [
    {
     "name": "stdout",
     "output_type": "stream",
     "text": [
      "I found 1 observations.\n",
      "The first observation in the query is:\n",
      "\t crate1slot4_1643342329: 2022-01-28 03:58:49.308130 -> 2022-01-28 04:08:49.690215 [0:10:00.382085] (None)\n",
      "But sometimes these are out of order, so I will sort by Observation time\n",
      "Now the first observation is:\n",
      "\t crate1slot4_1643342329: 2022-01-28 03:58:49.308130 -> 2022-01-28 04:08:49.690215 [0:10:00.382085] (None)\n"
     ]
    }
   ],
   "source": [
    "## Find the observation which started taking data between 2022/1/28 to 2022/2/1\n",
    "q = session.query(Observations).filter(Observations.start >= dt.datetime(2022,1,28), \n",
    "                                       Observations.start <= dt.datetime(2022,2,1))\n",
    "\n",
    "print(f'I found {q.count()} observations.')\n",
    "print(f'The first observation in the query is:\\n\\t {q[0]}')\n",
    "\n",
    "print('But sometimes these are out of order, so I will sort by Observation time')\n",
    "q = q.order_by(Observations.start)\n",
    "print(f'Now the first observation is:\\n\\t {q[0]}')\n"
   ]
  },
  {
   "cell_type": "markdown",
   "id": "5a984e61-03b7-4c6c-8f99-eefa5eb7077d",
   "metadata": {},
   "source": [
    "#### Search tune file\n",
    "Here we will search Tune file taken before 2022/1/28 and its stream_id is 'crate1slot4'.<br>\n",
    "Stream id is named using SMuRF crate number and slot number.<br>\n",
    "Typically one crate has six slots, one slot is able to readout upto 2000 TESes.<br>"
   ]
  },
  {
   "cell_type": "code",
   "execution_count": 4,
   "id": "f91f66f5-890a-4802-9a11-ccd7fc95ba6e",
   "metadata": {},
   "outputs": [
    {
     "name": "stdout",
     "output_type": "stream",
     "text": [
      "The last tune file before 2022-01-28 00:00:00 for stream_id crate1slot4 is 1643327820_tune.npy\n",
      "This tune file was created on 2022-01-27 23:57:00\n",
      "and it can be found at: \n",
      " /homes/kkiuchi/pwg-tutorials/data/smurf/16433/crate1slot4/1643327669_setup_notches/outputs/1643327820_tune.npy\n"
     ]
    }
   ],
   "source": [
    "## Find the most recent Tuning File relative to a time\n",
    "\n",
    "time = dt.datetime(2022,1,28)\n",
    "stream_id = 'crate1slot4'\n",
    "\n",
    "q = session.query(TuneSets).filter(TuneSets.start <= time, \n",
    "                                  TuneSets.stream_id == stream_id)\n",
    "tune = q.order_by( db.desc(TuneSets.start) ).first()\n",
    "\n",
    "print(f'The last tune file before {time} for stream_id {stream_id} is {tune.name}')\n",
    "print(f'This tune file was created on {tune.start}')\n",
    "print(f'and it can be found at: \\n {tune.path}')"
   ]
  },
  {
   "cell_type": "markdown",
   "id": "c32f4e81-14f8-4ec7-bb54-8163ad53ff7e",
   "metadata": {},
   "source": [
    "#### Search the SMuRF channels with a specific resonator frequency range\n",
    "In simons observatory, we will use frequency range of 4GHz to 6GHz.<br>\n",
    "One slot have two modules and each module has 2GHz BW (i.e. 4GHz to 6GHz).<br>\n",
    "1000 TESes are multiplexed in 2GHz BW."
   ]
  },
  {
   "cell_type": "code",
   "execution_count": 5,
   "id": "c93d7412-32cc-4c02-bf49-a17a3a409e8c",
   "metadata": {},
   "outputs": [
    {
     "name": "stdout",
     "output_type": "stream",
     "text": [
      "I found 19776 between 4000 and 6000 MHz\n",
      "These Channels are from 8 different master assignments\n",
      "Example Names:\n",
      "\t sch_crate1slot4_1643315726_0_229\n",
      "\t sch_crate1slot4_1643315726_0_149\n",
      "\t sch_crate1slot4_1643315726_0_405\n",
      "\t sch_crate1slot4_1643315726_0_085\n",
      "\t sch_crate1slot4_1643315726_0_341\n",
      "\t sch_crate1slot4_1643315726_0_213\n",
      "\t sch_crate1slot4_1643315726_0_469\n",
      "\t sch_crate1slot4_1643315726_0_053\n",
      "\t sch_crate1slot4_1643315726_0_309\n",
      "\t sch_crate1slot4_1643315726_0_181\n"
     ]
    }
   ],
   "source": [
    "## Find all the SMuRF channels within a specific resonator frequency range\n",
    "\n",
    "f_start = 4000\n",
    "f_stop = 6000\n",
    "stream_id = 'crate1slot4'\n",
    "\n",
    "q = session.query(Channels).join(TuneSets, Channels.ca_id!= None).filter(Channels.frequency > f_start, \n",
    "                                                 Channels.frequency<= f_stop,\n",
    "                                                 TuneSets.start >= dt.datetime(2022,1,20),\n",
    "                                                 TuneSets.stream_id == stream_id)\n",
    "\n",
    "print(f'I found {q.count()} between {f_start} and {f_stop} MHz')\n",
    "channels = q.all()\n",
    "ctimes = np.unique( [ch.chan_assignment.ctime for ch in channels])\n",
    "print(f'These Channels are from {len(ctimes)} different master assignments')\n",
    "\n",
    "print('Example Names:')\n",
    "for i in range(10):\n",
    "    print( '\\t', channels[i].name)"
   ]
  },
  {
   "cell_type": "markdown",
   "id": "a8082236-bb22-43a3-b9f5-d8be0b335057",
   "metadata": {},
   "source": [
    "## Loading data -- From Files"
   ]
  },
  {
   "cell_type": "markdown",
   "id": "b9d899df-b40e-455c-ab18-1e96587188b0",
   "metadata": {},
   "source": [
    "Loading data from a single .g3 files into an AxisManager should be quite straightforward:"
   ]
  },
  {
   "cell_type": "code",
   "execution_count": 6,
   "id": "fef62fa9-7dd6-45b9-9361-b22a34e680b8",
   "metadata": {},
   "outputs": [
    {
     "name": "stderr",
     "output_type": "stream",
     "text": [
      "100%|█████████████████████████████████████████████| 1/1 [00:00<00:00,  1.02it/s]\n"
     ]
    }
   ],
   "source": [
    "fname = '/homes/kkiuchi/pwg-tutorials/data/timestreams/16433/crate1slot4/1643342329_000.g3'\n",
    "aman = load_file(fname)"
   ]
  },
  {
   "cell_type": "code",
   "execution_count": 7,
   "id": "6fd6f3ce-c866-40e0-ae96-83ff7a8ed9b8",
   "metadata": {},
   "outputs": [
    {
     "name": "stdout",
     "output_type": "stream",
     "text": [
      "817\n"
     ]
    },
    {
     "data": {
      "text/plain": [
       "Text(0.5, 0, 'Time (s)')"
      ]
     },
     "execution_count": 7,
     "metadata": {},
     "output_type": "execute_result"
    },
    {
     "data": {
      "image/png": "[encoded data removed]",
      "text/plain": [
       "<Figure size 432x288 with 1 Axes>"
      ]
     },
     "metadata": {
      "needs_background": "light"
     },
     "output_type": "display_data"
    }
   ],
   "source": [
    "print(len(aman.signal))##number of detectors\n",
    "plt.figure()\n",
    "plt.plot( aman.timestamps, aman.signal[433] )\n",
    "plt.ylabel('Phase')\n",
    "plt.xlabel('Time (s)')"
   ]
  },
  {
   "cell_type": "markdown",
   "id": "f81dc4ab-e2a6-4834-b9bc-94b2642830e0",
   "metadata": {},
   "source": [
    "## Loading Observations"
   ]
  },
  {
   "cell_type": "code",
   "execution_count": 8,
   "id": "5c4c0efb-4fdb-4b8d-bfa3-051bf712d582",
   "metadata": {},
   "outputs": [
    {
     "name": "stdout",
     "output_type": "stream",
     "text": [
      "start time, end time and duration\n",
      "1643342328.5296934 1643342928.5952141 600.0655207633972\n"
     ]
    },
    {
     "name": "stderr",
     "output_type": "stream",
     "text": [
      "100%|█████████████████████████████████████████████| 2/2 [00:00<00:00,  2.22it/s]\n"
     ]
    },
    {
     "data": {
      "text/plain": [
       "Text(0.5, 0, 'Time (s)')"
      ]
     },
     "execution_count": 8,
     "metadata": {},
     "output_type": "execute_result"
    },
    {
     "data": {
      "image/png": "[encoded data removed]",
      "text/plain": [
       "<Figure size 432x288 with 1 Axes>"
      ]
     },
     "metadata": {
      "needs_background": "light"
     },
     "output_type": "display_data"
    }
   ],
   "source": [
    "## this observation is an example where we were doing nothing but taking noise\n",
    "#obs = session.query(Observations).filter(Observations.obs_id == 'crate1slot4_1643342329').one()\n",
    "obs = session.query(Observations).filter(Observations.obs_id == 'crate1slot4_1643342329').one()\n",
    "print(\"start time, end time and duration\")\n",
    "print(aman.timestamps[0], aman.timestamps[-1], aman.timestamps[-1]-aman.timestamps[0])\n",
    "aman = SMURF.load_data(obs.start, obs.stop)\n",
    "## Right now this data is returned in phase. \n",
    "# Let's change it to pA (yes, we need to add unit control)\n",
    "phase_to_pA = 9e6/(2*np.pi) #design value of uMUX calculated from mutual inductance of TES and SQUID loop\n",
    "aman.signal *= phase_to_pA\n",
    "plt.plot( aman.timestamps, aman.signal[433] )\n",
    "plt.ylabel('Signal (pA)')\n",
    "plt.xlabel('Time (s)')"
   ]
  },
  {
   "cell_type": "markdown",
   "id": "40429521-95d9-4515-8d23-aa7b514c59c4",
   "metadata": {},
   "source": [
    "## The AxisManager class\n",
    "https://sotodlib.readthedocs.io/en/latest/axisman.html<br>\n",
    "\n",
    "\n",
    "The AxisManager is a container class for numpy arrays and similar structures, that tracks relationships between axes. The object can be made aware, for example, that the 2nd axis of an array called “data” is tied to the 1st axis of an array called “azimuth”; slices / sub-selection operations can be performed on a named on that axis and the entire object will be modified self-consistently.\n",
    "\n",
    "The data model here is similar to what is provided by the xarray library. However, AxisManager makes it possible to store objects other than numpy ndarrays, if the classes expose a suitable interface."
   ]
  },
  {
   "cell_type": "code",
   "execution_count": 9,
   "id": "43a8d55f-684a-486f-a9d9-c6f45eaf1f53",
   "metadata": {},
   "outputs": [
    {
     "name": "stdout",
     "output_type": "stream",
     "text": [
      "This observation is 10.01 minutes long.\n",
      "                 It has 817 channels loaded and 120076 samples\n",
      "This aman AxisManager has 4 Axes: \n",
      "\tdets with 817 entries\n",
      "\tsamps with 120076 entries\n",
      "\tfilter_pars with 16 entries\n",
      "\tbias_lines with 16 entries\n",
      "This aman AxisManager has fields : [axes]\n",
      "\ttimestamps : ['samps']\n",
      "\tstatus : ['filter_pars']\n",
      "\t\t dump_frame : []\n",
      "\t\t filter_a : ['filter_pars']\n",
      "\t\t filter_b : ['filter_pars']\n",
      "\t\t filter_gain : []\n",
      "\t\t filter_order : []\n",
      "\t\t filter_enabled : []\n",
      "\t\t downsample_factor : []\n",
      "\t\t flux_ramp_rate_hz : []\n",
      "\tsignal : ['dets', 'samps']\n",
      "\tch_info : ['dets']\n",
      "\t\t band : ['dets']\n",
      "\t\t channel : ['dets']\n",
      "\t\t frequency : ['dets']\n",
      "\t\t rchannel : ['dets']\n",
      "\t\t ruid : ['dets']\n",
      "\tprimary : ['samps']\n",
      "\t\t AveragingResetBits : ['samps']\n",
      "\t\t Counter0 : ['samps']\n",
      "\t\t Counter1 : ['samps']\n",
      "\t\t Counter2 : ['samps']\n",
      "\t\t FluxRampIncrement : ['samps']\n",
      "\t\t FluxRampOffset : ['samps']\n",
      "\t\t FrameCounter : ['samps']\n",
      "\t\t TESRelaySetting : ['samps']\n",
      "\t\t UnixTime : ['samps']\n",
      "\tbiases : ['bias_lines', 'samps']\n",
      "\tflags : ['dets', 'samps']\n"
     ]
    }
   ],
   "source": [
    "def print_aman_info(aman):\n",
    "    if 'timestamps' in aman:\n",
    "        print(\"\"\"This observation is {} minutes long.\n",
    "                 It has {} channels loaded and {} samples\"\"\".format(round((aman.timestamps[-1]-aman.timestamps[0])/60.,2),\n",
    "                                                                              aman.dets.count, aman.samps.count))\n",
    "\n",
    "    print('This aman AxisManager has {} Axes: '.format(len(aman._axes)))\n",
    "    for k in aman._axes:\n",
    "        print('\\t{} with {} entries'.format(aman[k].name, aman[k].count ) )\n",
    "\n",
    "    print('This aman AxisManager has fields : [axes]')\n",
    "    for k in aman._fields:\n",
    "        print('\\t{} : {}'.format(k, aman._assignments[k]) )\n",
    "        if type(aman._fields[k]) is core.AxisManager:\n",
    "            for kk in aman[k]._fields:\n",
    "                print('\\t\\t {} : {}'.format(kk, aman[k]._assignments[kk] ))\n",
    "print_aman_info(aman)"
   ]
  },
  {
   "cell_type": "markdown",
   "id": "0fe7bf5f-247d-4a24-8246-2a98e43a1dfa",
   "metadata": {},
   "source": [
    "### Channels\n",
    "\n",
    "The loading function will automatically name the channels in for format discussed above (related to the channel assignment ctime, smurf band, and smurf channel). "
   ]
  },
  {
   "cell_type": "code",
   "execution_count": 10,
   "id": "42bb00b9-f477-49c8-887e-3be91539c2d9",
   "metadata": {},
   "outputs": [
    {
     "name": "stdout",
     "output_type": "stream",
     "text": [
      "[4250.51602254 4173.62197986 4442.11398644 4134.34191432 4365.36801128\n",
      " 4058.53602452 4269.59598346 4422.48601818 4115.20005445 4192.45996389\n",
      " 4307.14397969 4461.76398959 4153.74201798 4076.65398021 4259.39596829\n",
      " 4106.37792912 4336.01200738 4297.51199617 4144.2739635  4221.27201381\n",
      " 4278.46804838 4048.14196548 4317.7760076  4471.11399255 4394.37397032\n",
      " 4255.35800061 4408.66600847 4100.87201133 4332.08398237 4293.18400931\n",
      " 4139.72768645 4427.08000965 4351.37998543 4043.68996973 4466.4719954\n",
      " 4082.05596375 4236.13199048 4264.05191035 4417.80199246 4110.5059442\n",
      " 4187.75000186 4456.59600267 4148.91797295 4436.7020072  4053.64400759\n",
      " 4206.86195431 4475.64399252 4398.49999413 4252.65797229 4328.84998932\n",
      " 4291.34999762 4444.76800394 4137.74592938 4367.96198978 4060.00799222\n",
      " 4271.50595875 4424.97400694 4117.96195354 4041.12602596 4195.27399626\n",
      " 4463.9520071  4079.48596306 4108.52992878 4338.95802917 4300.493957\n",
      " 4146.21996822 4223.5280334  4280.628021   4435.06999173 4051.04601636\n",
      " 4204.48394985 4319.42396841 4472.62398825 4089.38594861 4257.28795972\n",
      " 4103.61398311 4333.42598081 4142.12598801 4219.25997324 4276.98000231\n",
      " 4429.58598008 4353.1980073  4045.65598059 4199.75999212 4084.43603258\n",
      " 4237.430019   4266.45196629 4112.95592813 4036.98003035 4189.57003417\n",
      " 4152.05798125 4074.95793233 4228.40202546 4362.3539937  4055.26594081\n",
      " 4323.80999298 4400.93200283 4404.37799482 4328.18000727 4289.41799717\n",
      " 4443.50999384 4136.53794885 4366.58399925 4212.53195691 4424.50002241\n",
      " 4116.64995179 4347.23802285 4308.59400449 4001.16045103 4385.79394217\n",
      " 4078.70992675 4231.45600653 4107.35011301 4337.0660058  4183.50400434\n",
      " 4145.1559442  4222.9200088  4433.16199512 4357.17597232 4049.83597646\n",
      " 4203.01999316 4087.60199938 4410.14598703 4448.47597723 4140.84799137\n",
      " 4370.89400487 4217.21794257 4275.09599166 4121.01002874 4044.6516727\n",
      " 4198.19599361 4467.75998116 4389.81200299 4083.4839488  4419.78599129\n",
      " 4111.799966   4303.4999773  4457.76000528 4150.8539897  4073.65794058\n",
      " 4284.97998681 4438.89800339 4361.83999419 4322.82997561 4406.77400026\n",
      " 4330.45199008 4138.72595577 4369.21200433 4215.03797498 4272.62199388\n",
      " 4425.97798753 4119.45799575 4349.45003991 4042.65004025 4196.37799478\n",
      " 4310.59998441 4465.37799602 4387.64801321 4081.05800447 4233.92201934\n",
      " 4263.13394313 4109.50398035 4185.90403423 4302.1979784  4147.78600636\n",
      " 4071.51389084 4435.65599332 4359.21599197 4052.31793747 4205.79599123\n",
      " 4321.09197898 4474.16001625 4397.62799211 4090.78594971 4105.27198839\n",
      " 4181.28402934 4296.74400177 4142.92799311 4431.04202504 4123.68005896\n",
      " 4354.72798481 4315.67797713 4469.43798943 4393.10998855 4085.93195348\n",
      " 4238.95602326 4268.18799496 4421.70600462 4113.84204717 4191.1899817\n",
      " 4459.43800383 4383.49999371 4075.75204973 4229.57201262 4287.51800256\n",
      " 4440.49800429 4056.982019   4402.65998774 4903.48198509 4826.49799914\n",
      " 4980.02200866 4788.13794646 4941.42198911 4635.15998921 4865.57000623\n",
      " 4711.64999123 4768.91995735 4922.24600582 4845.76999278 4538.62201276\n",
      " 4692.78997345 4654.11802893 4576.89798899 4730.4739903  4836.21198773\n",
      " 4528.67400408 4797.97998056 4567.16798496 4624.76397696 4663.40000291\n",
      " 4893.96199918 4740.85199971 4754.99799824 4908.35798988 4831.85398273\n",
      " 4869.99397454 4562.80199757 4774.47399426 4620.79398918 4543.42000647\n",
      " 4697.204      4965.82600088 4736.1600172  4533.86402674 4994.49200172\n",
      " 4688.09998407 4802.7020081  4956.84996653 4649.42001624 4880.02400618\n",
      " 4725.5059936  4630.03598838 4860.79398289 4976.02800145 4668.06599517\n",
      " 4898.28999805 4744.76801443 4905.63199205 4828.89999528 4867.04002428\n",
      " 4560.30599709 4771.1419867  4924.68594298 4617.60600739 4694.43798232\n",
      " 4963.21198535 4733.5740088  4761.79599748 4839.3560039  4992.31599522\n",
      " 4800.08798771 4876.8779757  4570.16999998 4723.64803872 4935.11399426\n",
      " 4627.97200694 4973.55001225 4666.24399848 4896.07198973 4743.29798336\n",
      " 4757.27199664 4834.41400404 4526.46601634 4796.0499877  4872.99600315\n",
      " 4565.78601575 4929.4519958  4622.20599785 4546.54002595 4699.64198523\n",
      " 4967.88600407 4661.54203959 4891.18198624 4766.38397179 4919.92399616\n",
      " 4843.22600737 4996.87800102 4689.72394433 4804.97600679 4651.10212021\n",
      " 4574.85804515 4728.27597251 4632.88598022 4862.76399946 4709.48598142\n",
      " 4977.44797664 4901.50999584 4904.32399817 4981.95400138 4789.64800897\n",
      " 4636.3799643  4558.86798058 4770.28199353 4847.13400035 4540.41598487\n",
      " 4961.98401012 4655.55001411 4578.46200767 4732.12994423 4760.24399452\n",
      " 4837.59799757 4529.89800491 4875.5679904  4568.79998412 4722.12601428\n",
      " 4933.50599751 4626.18399777 4703.39799237 4664.9920001  4895.46797099\n",
      " 4741.30000973 4756.40999889 4832.88599219 4525.98400664 4794.00998549\n",
      " 4871.50600543 4564.06599808 4545.35201035 4697.99999909 4660.35400381\n",
      " 4890.16799335 4765.23002167 4842.0639926  4535.69799867 4995.67000375\n",
      " 4803.79999332 4880.71000495 4573.53999934 4726.75998311 4785.22197671\n",
      " 4937.80800643 4630.6780015  4707.84398556 4670.07599239 4753.05600367\n",
      " 4906.89399328 4830.42400784 4791.53001404 4638.13201542 4868.52999167\n",
      " 4561.77198853 4772.85797176 4926.57598825 4619.21395664 4849.43400187\n",
      " 4541.97800012 4964.52200141 4657.12800717 4887.58399754 4734.841992\n",
      " 4609.77797966 4840.4759954  4532.66398139 4801.39399548 4878.2719861\n",
      " 4571.78000317 4936.42199931 4628.82197208 4859.0740037  4705.30798712\n",
      " 4974.84200087 4758.59800968 4873.8759923  4931.20799155 4623.59598966\n",
      " 4701.27398167 4969.18799796 4662.00401211 4892.61602349 4738.89999142\n",
      " 4767.93000078 4844.55400467 4537.32798438 4998.27600927 4691.39404345\n",
      " 4805.98201399 4960.37599392 4652.7620039  4729.8420228  4786.78999424\n",
      " 4940.24598937 4634.10198808 4863.84200387 4825.02398725 5250.30200758\n",
      " 5403.4240026  5095.94199958 5019.02400599 5480.53799114 5173.05199513\n",
      " 5442.28588371 5211.9339808  5268.70199862 5115.87398801 5039.39399314\n",
      " 5499.298      5000.3139935  5077.27001696 5230.52998481 5028.7779974\n",
      " 5182.26601939 5451.7099823  5144.73798966 5375.01199408 5067.08798862\n",
      " 5125.22200198 5048.34799933 5317.3219923  5009.82400489 5470.7759973\n",
      " 5163.47400198 5393.82998972 5086.77999372 5239.80799298 5254.28599877\n",
      " 5408.02999706 5332.12598577 5024.5579967  5484.8219975  5178.24201322\n",
      " 5369.422017   5063.04199634 5216.1839889  5427.598001   5196.62999525\n",
      " 5465.70799899 5082.03399711 5264.53999171 5418.33198953 5111.24200144\n",
      " 5341.13001151 5148.71999488 5436.63198652 5130.50799694 5053.55400281\n",
      " 5206.49799657 5014.98399897 5168.66599445 5091.43599129 5252.55000143\n",
      " 5406.11999316 5329.19000516 5021.50600119 5482.32000117 5175.94398823\n",
      " 5444.08599987 5137.58798962 5367.25798259 5214.06800694 5041.09998121\n",
      " 5194.75400333 5262.39599733 5416.00599904 5031.95800552 5492.02398863\n",
      " 5146.4780036  5376.99398875 5127.09199848 5357.9180171  5050.62399673\n",
      " 5204.49599519 5012.12400784 5396.50598831 5089.34998498 5103.43397756\n",
      " 5333.70799212 5487.26998129 5180.15201297 5448.62400012 5372.87399812\n",
      " 5065.5999959  5218.70000439 5430.20999465 5122.97799826 5200.11395617\n",
      " 5007.21999879 5468.31597075 5161.55200295 5084.71799612 5237.74400125\n",
      " 5266.43400922 5420.99200115 5113.44198661 5343.12398229 5075.00199094\n",
      " 5228.52800503 5440.13799906 5132.07199759 5362.60598302 5056.16200347\n",
      " 5016.66800137 5478.40399661 5170.82599568 5401.56601882 5094.5279952\n",
      " 5248.03798285 5404.49799271 5098.09198551 5328.06199636 5174.84999642\n",
      " 5136.15799069 5365.93000603 5058.74998398 5423.79800463 5347.14001021\n",
      " 5193.25199776 5154.747995   5385.70198417 5078.55199199 5232.29199057\n",
      " 5260.83398552 5414.01598306 5107.17399645 5337.86600389 5030.74400597\n",
      " 5184.45599971 5069.12199068 5222.52400889 5433.20799108 5203.03998728\n",
      " 5011.11399922 5472.4899652  5164.67799697 5395.25597892 5241.73399358\n",
      " 5256.46401258 5409.80999451 5102.09398956 5370.96998706 5064.40198445\n",
      " 5428.35399456 5121.27000532 5045.16598864 5198.7039917  5005.83600569\n",
      " 5466.90000615 5159.73598795 5236.47199988 5035.00599661 5496.45599656\n",
      " 5188.50598369 5458.04200788 5150.64199076 5381.08199644 5073.43800445\n",
      " 5226.76999784 5438.09799314 5361.26400661 5207.71399097 5476.52400026\n",
      " 5399.4159904  5093.19599562 5245.97399554 5100.38199463 5329.9579874\n",
      " 5446.0939805  5062.07800641 5118.74800057 5349.27000647 5042.3239995\n",
      " 5003.6419909  5464.22798424 5157.44999614 5234.41201015 5109.20598192\n",
      " 5339.73800383 5033.00199795 5186.56600442 5455.18597941 5378.7459888\n",
      " 5071.21398954 5224.59799891 5128.49800758 5359.65200386 5205.39799476\n",
      " 5474.95599446 5167.08199511 5397.68401008 5244.28598585 5258.16998734\n",
      " 5412.16600499 5105.10199027 5334.83599076 5027.87601771 5489.38398986\n",
      " 5450.18799806 5220.48599997 5431.14198146 5353.97001414 5046.88199816\n",
      " 5200.59198217 5008.29400492 5469.47400699 5344.92400289 5037.20799079\n",
      " 5497.84999409 5152.92799845 5133.99200234 5364.09199777 5209.84400725\n",
      " 5325.77996478 5903.67599664 5596.02200208 5672.83800778 5787.8339994\n",
      " 5711.14199386 5922.9319963  5615.11399946 5692.2079946  5808.03800473\n",
      " 5500.36600575 5960.81999321 5653.90399537 5884.36801462 5576.69200592\n",
      " 5606.41999516 5682.6899961  5797.75999007 5951.83000193 5875.36199131\n",
      " 5721.71600108 5932.70600543 5625.40999165 5510.21999278 5894.10399289\n",
      " 5586.51997695 5740.16798763 5754.83400083 5908.33600378 5831.54999804\n",
      " 5677.45400724 5946.69399581 5639.23199248 5716.86200314 5774.01399384\n",
      " 5927.34400396 5620.90800667 5850.4759913  5696.7080009  5658.4079905\n",
      " 5889.00998616 5582.3739902  5764.80599432 5610.59199691 5995.30199652\n",
      " 5687.70600104 5956.96798501 5572.6300065  5725.48600664 5630.43000445\n",
      " 5706.32399502 5821.70598941 5514.30199962 5898.39800038 5744.70399733\n",
      " 5905.58799639 5599.03799505 5675.764007   5944.16999264 5714.31798868\n",
      " 5925.01799331 5848.70400243 5694.38600183 5809.87199912 5503.1439981\n",
      " 5964.1140018  5656.33000665 5579.75598612 5733.38599439 5762.34599423\n",
      " 5685.66400228 5646.70399365 5570.15400515 5723.09200463 5781.23799524\n",
      " 5934.5019917  5627.76799998 5857.93798633 5512.07200131 5666.52400279\n",
      " 5896.38198643 5743.29400868 5757.09399252 5604.18398657 5680.06799903\n",
      " 5796.0199903  5641.91799579 5718.85999136 5775.99399323 5623.02999635\n",
      " 5853.07000055 5968.56199942 5584.30199738 5920.99199843 5689.9100081\n",
      " 5651.16200442 5575.03397546 5939.12800231 5823.88000679 5670.41599808\n",
      " 5901.73800435 5593.84599829 5747.7979938  5751.06999741 5827.89198694\n",
      " 5521.22800388 5982.06199627 5674.24401045 5866.1039887  5712.72000866\n",
      " 5846.65999608 5962.87999969 5885.89198956 5577.86399536 5731.88999696\n",
      " 5761.09600115 5914.31800094 5607.68399768 5991.5919939  5684.5619966\n",
      " 5799.63801045 5953.31399264 5645.2359899  5568.6260016  5779.42399569\n",
      " 5818.65199432 5971.63000007 5664.37600398 5588.06999435 5741.68598461\n",
      " 5602.72599497 5832.9980031  5986.15201797 5794.23400645 5640.43199005\n",
      " 5871.68800497 5851.7559998  5698.43600054 5813.76200113 5506.47600794\n",
      " 5966.91398869 5660.29798555 5890.15399551 5736.24399338 5919.35399585\n",
      " 5611.45799866 5881.14600139 5573.66400638 5727.02198758 5784.43799906\n",
      " 5938.38399973 5630.96799707 5861.92000127 5707.96798987 5516.34999623\n",
      " 5899.69000301 5746.3159905  5753.20400424 5829.96599469 5522.95199265\n",
      " 5984.15599813 5869.38201003 5715.36998696 5618.66800737 5811.4460115\n",
      " 5504.48000355 5887.87198696 5917.16000166 5609.00199084 5993.40799847\n",
      " 5801.46599283 5954.94199295 5648.15599842 5571.34599128 5782.31800122\n",
      " 5936.23599191 5859.75799346 5820.66599627 5897.78200669 5590.69798913\n",
      " 5758.79198833 5912.13199372 5605.23600287 5989.23799644 5643.61199932\n",
      " 5873.88999414 5777.51999235 5931.26801009 5816.29399614 5508.57599707\n",
      " 5970.00798688 5662.83999615 5892.58999705 5767.73199053 5614.14600124\n",
      " 5998.79434481 5806.06799188 5959.46999693 5652.61999531 5882.98999505\n",
      " 5729.06397319 5786.97600322 5863.7299994  5709.80799026 5826.00399776\n",
      " 5518.7860075  5748.97998996]\n"
     ]
    }
   ],
   "source": [
    "#print( aman.dets.vals )\n",
    "#print( aman.status.filter_a )\n",
    "#print( aman.biases[15] )\n",
    "print ( aman.ch_info.frequency)"
   ]
  },
  {
   "cell_type": "code",
   "execution_count": 11,
   "id": "a041702a-3aa6-4ba8-ae8d-e8a016d643b9",
   "metadata": {},
   "outputs": [
    {
     "data": {
      "image/png": "[encoded data removed]",
      "text/plain": [
       "<Figure size 576x216 with 1 Axes>"
      ]
     },
     "metadata": {
      "needs_background": "light"
     },
     "output_type": "display_data"
    }
   ],
   "source": [
    "fig = plt.figure(figsize=(8,3))\n",
    "\n",
    "for i in range(0,aman.dets.count,10):\n",
    "    #print(\"detnumber\",i)\n",
    "    plt.plot( aman.timestamps, aman.signal[i] )\n",
    "plt.ylabel('Signal (pA)')\n",
    "plt.xlabel('Unix Time (s)')\n",
    "\n",
    "fig.tight_layout()"
   ]
  },
  {
   "cell_type": "markdown",
   "id": "dbfdc004-eff0-4ebb-8f6e-e220a57f37c2",
   "metadata": {},
   "source": [
    "## Manipulating AxisManagers\n",
    "\n",
    "Important AxisManager functions to know about:\n",
    "* restrict\n",
    "* wrap\n",
    "* wrap_new\n",
    "* move\n",
    "\n",
    "\n",
    "#### restrict\n",
    "The nice thing about using `restrict` along the `samps` axis is now *every* item in the AxisManager that has a piece along the `samps` axis is cut in the same way. Ex: It cuts both `aman.timestamps` and `aman.signal` "
   ]
  },
  {
   "cell_type": "code",
   "execution_count": 12,
   "id": "06f08511-c701-4f8b-a065-6d9af8ccc9b2",
   "metadata": {},
   "outputs": [
    {
     "name": "stdout",
     "output_type": "stream",
     "text": [
      "120076\n",
      "119232\n"
     ]
    }
   ],
   "source": [
    "## Remove a section from the beginning\n",
    "print(aman.samps.count)\n",
    "aman.restrict('samps', (1000,None))\n",
    "print(aman.samps.count)"
   ]
  },
  {
   "cell_type": "markdown",
   "id": "d009b771-a027-42f8-8d99-e0edd85c3b22",
   "metadata": {},
   "source": [
    "#### `wrap()` and `wrap_new()`\n",
    "\n",
    "Specific Docs: https://sotodlib.readthedocs.io/en/latest/axisman.html#sotodlib.core.AxisManager.wrap\n",
    "\n",
    "We might want to add new fields to the `aman`, which we can do using the `wrap(name, data, axis_map=None)` function. As an example, let's calculate the mean of the different channels signals (the common mode) and add that to the `aman`."
   ]
  },
  {
   "cell_type": "code",
   "execution_count": 13,
   "id": "bed5792d-2e16-4d5a-af6a-eebfbde0f8f9",
   "metadata": {},
   "outputs": [
    {
     "data": {
      "text/plain": [
       "AxisManager(timestamps[samps], status*[filter_pars], signal[dets,samps], ch_info*[dets], primary*[samps], biases[bias_lines,samps], flags*[dets,samps], sig_mean[samps], dets:LabelAxis(817), samps:OffsetAxis(119232), filter_pars:IndexAxis(16), bias_lines:LabelAxis(16))"
      ]
     },
     "execution_count": 13,
     "metadata": {},
     "output_type": "execute_result"
    }
   ],
   "source": [
    "sig_mean = np.mean( aman.signal, axis = 0)\n",
    "aman.wrap('sig_mean', sig_mean, [(0,aman.samps)])"
   ]
  },
  {
   "cell_type": "markdown",
   "id": "466ddf4c-3c12-47b0-8116-7feb0c10f89d",
   "metadata": {},
   "source": [
    "`wrap_new(name, shape, cls=None)` creates a new empty field to add to the AxisManager. (Basically saves some lines of code). As an example, let's say we're calculating a value per channel:"
   ]
  },
  {
   "cell_type": "code",
   "execution_count": 14,
   "id": "255bcef5-4789-404b-8479-543700743763",
   "metadata": {},
   "outputs": [
    {
     "data": {
      "text/plain": [
       "array([0., 0., 0., 0., 0., 0., 0., 0., 0., 0., 0., 0., 0., 0., 0., 0., 0.,\n",
       "       0., 0., 0., 0., 0., 0., 0., 0., 0., 0., 0., 0., 0., 0., 0., 0., 0.,\n",
       "       0., 0., 0., 0., 0., 0., 0., 0., 0., 0., 0., 0., 0., 0., 0., 0., 0.,\n",
       "       0., 0., 0., 0., 0., 0., 0., 0., 0., 0., 0., 0., 0., 0., 0., 0., 0.,\n",
       "       0., 0., 0., 0., 0., 0., 0., 0., 0., 0., 0., 0., 0., 0., 0., 0., 0.,\n",
       "       0., 0., 0., 0., 0., 0., 0., 0., 0., 0., 0., 0., 0., 0., 0., 0., 0.,\n",
       "       0., 0., 0., 0., 0., 0., 0., 0., 0., 0., 0., 0., 0., 0., 0., 0., 0.,\n",
       "       0., 0., 0., 0., 0., 0., 0., 0., 0., 0., 0., 0., 0., 0., 0., 0., 0.,\n",
       "       0., 0., 0., 0., 0., 0., 0., 0., 0., 0., 0., 0., 0., 0., 0., 0., 0.,\n",
       "       0., 0., 0., 0., 0., 0., 0., 0., 0., 0., 0., 0., 0., 0., 0., 0., 0.,\n",
       "       0., 0., 0., 0., 0., 0., 0., 0., 0., 0., 0., 0., 0., 0., 0., 0., 0.,\n",
       "       0., 0., 0., 0., 0., 0., 0., 0., 0., 0., 0., 0., 0., 0., 0., 0., 0.,\n",
       "       0., 0., 0., 0., 0., 0., 0., 0., 0., 0., 0., 0., 0., 0., 0., 0., 0.,\n",
       "       0., 0., 0., 0., 0., 0., 0., 0., 0., 0., 0., 0., 0., 0., 0., 0., 0.,\n",
       "       0., 0., 0., 0., 0., 0., 0., 0., 0., 0., 0., 0., 0., 0., 0., 0., 0.,\n",
       "       0., 0., 0., 0., 0., 0., 0., 0., 0., 0., 0., 0., 0., 0., 0., 0., 0.,\n",
       "       0., 0., 0., 0., 0., 0., 0., 0., 0., 0., 0., 0., 0., 0., 0., 0., 0.,\n",
       "       0., 0., 0., 0., 0., 0., 0., 0., 0., 0., 0., 0., 0., 0., 0., 0., 0.,\n",
       "       0., 0., 0., 0., 0., 0., 0., 0., 0., 0., 0., 0., 0., 0., 0., 0., 0.,\n",
       "       0., 0., 0., 0., 0., 0., 0., 0., 0., 0., 0., 0., 0., 0., 0., 0., 0.,\n",
       "       0., 0., 0., 0., 0., 0., 0., 0., 0., 0., 0., 0., 0., 0., 0., 0., 0.,\n",
       "       0., 0., 0., 0., 0., 0., 0., 0., 0., 0., 0., 0., 0., 0., 0., 0., 0.,\n",
       "       0., 0., 0., 0., 0., 0., 0., 0., 0., 0., 0., 0., 0., 0., 0., 0., 0.,\n",
       "       0., 0., 0., 0., 0., 0., 0., 0., 0., 0., 0., 0., 0., 0., 0., 0., 0.,\n",
       "       0., 0., 0., 0., 0., 0., 0., 0., 0., 0., 0., 0., 0., 0., 0., 0., 0.,\n",
       "       0., 0., 0., 0., 0., 0., 0., 0., 0., 0., 0., 0., 0., 0., 0., 0., 0.,\n",
       "       0., 0., 0., 0., 0., 0., 0., 0., 0., 0., 0., 0., 0., 0., 0., 0., 0.,\n",
       "       0., 0., 0., 0., 0., 0., 0., 0., 0., 0., 0., 0., 0., 0., 0., 0., 0.,\n",
       "       0., 0., 0., 0., 0., 0., 0., 0., 0., 0., 0., 0., 0., 0., 0., 0., 0.,\n",
       "       0., 0., 0., 0., 0., 0., 0., 0., 0., 0., 0., 0., 0., 0., 0., 0., 0.,\n",
       "       0., 0., 0., 0., 0., 0., 0., 0., 0., 0., 0., 0., 0., 0., 0., 0., 0.,\n",
       "       0., 0., 0., 0., 0., 0., 0., 0., 0., 0., 0., 0., 0., 0., 0., 0., 0.,\n",
       "       0., 0., 0., 0., 0., 0., 0., 0., 0., 0., 0., 0., 0., 0., 0., 0., 0.,\n",
       "       0., 0., 0., 0., 0., 0., 0., 0., 0., 0., 0., 0., 0., 0., 0., 0., 0.,\n",
       "       0., 0., 0., 0., 0., 0., 0., 0., 0., 0., 0., 0., 0., 0., 0., 0., 0.,\n",
       "       0., 0., 0., 0., 0., 0., 0., 0., 0., 0., 0., 0., 0., 0., 0., 0., 0.,\n",
       "       0., 0., 0., 0., 0., 0., 0., 0., 0., 0., 0., 0., 0., 0., 0., 0., 0.,\n",
       "       0., 0., 0., 0., 0., 0., 0., 0., 0., 0., 0., 0., 0., 0., 0., 0., 0.,\n",
       "       0., 0., 0., 0., 0., 0., 0., 0., 0., 0., 0., 0., 0., 0., 0., 0., 0.,\n",
       "       0., 0., 0., 0., 0., 0., 0., 0., 0., 0., 0., 0., 0., 0., 0., 0., 0.,\n",
       "       0., 0., 0., 0., 0., 0., 0., 0., 0., 0., 0., 0., 0., 0., 0., 0., 0.,\n",
       "       0., 0., 0., 0., 0., 0., 0., 0., 0., 0., 0., 0., 0., 0., 0., 0., 0.,\n",
       "       0., 0., 0., 0., 0., 0., 0., 0., 0., 0., 0., 0., 0., 0., 0., 0., 0.,\n",
       "       0., 0., 0., 0., 0., 0., 0., 0., 0., 0., 0., 0., 0., 0., 0., 0., 0.,\n",
       "       0., 0., 0., 0., 0., 0., 0., 0., 0., 0., 0., 0., 0., 0., 0., 0., 0.,\n",
       "       0., 0., 0., 0., 0., 0., 0., 0., 0., 0., 0., 0., 0., 0., 0., 0., 0.,\n",
       "       0., 0., 0., 0., 0., 0., 0., 0., 0., 0., 0., 0., 0., 0., 0., 0., 0.,\n",
       "       0., 0., 0., 0., 0., 0., 0., 0., 0., 0., 0., 0., 0., 0., 0., 0., 0.,\n",
       "       0.])"
      ]
     },
     "execution_count": 14,
     "metadata": {},
     "output_type": "execute_result"
    }
   ],
   "source": [
    "aman.wrap_new('pA_to_pW', shape=('dets',), dtype='float64')"
   ]
  },
  {
   "cell_type": "markdown",
   "id": "9f27db6b-25dd-40c3-bc7f-ceb6cafccf0e",
   "metadata": {},
   "source": [
    "#### move(name, new_name)\n",
    "\n",
    "Rename or remove a data field. If `new_name` is `None` the field is deleted."
   ]
  },
  {
   "cell_type": "markdown",
   "id": "3abf4042-7281-41d9-817f-418c4a1d0e6f",
   "metadata": {},
   "source": [
    "# Timestream Operations and Flags"
   ]
  },
  {
   "cell_type": "code",
   "execution_count": 15,
   "id": "1508392e-7ee8-47fd-9c4f-5ea2d5319d5e",
   "metadata": {},
   "outputs": [],
   "source": [
    "import sotodlib.tod_ops.filters as filters\n",
    "from sotodlib.tod_ops import fourier_filter, rfft, detrend_tod"
   ]
  },
  {
   "cell_type": "markdown",
   "id": "064734b8-f0ab-4bcd-917a-9cba4e492528",
   "metadata": {},
   "source": [
    "Detrend: Remove linear trend along axis from data for fourier transformation<br>\n",
    "default: linear<br>\n",
    "other options: mean, median"
   ]
  },
  {
   "cell_type": "code",
   "execution_count": 16,
   "id": "38ef6990-034a-4ee0-9e78-b26ffadaaead",
   "metadata": {},
   "outputs": [
    {
     "data": {
      "text/plain": [
       "AxisManager(timestamps[samps], status*[filter_pars], signal[dets,samps], ch_info*[dets], primary*[samps], biases[bias_lines,samps], flags*[dets,samps], sig_mean[samps], pA_to_pW[dets], dets:LabelAxis(817), samps:OffsetAxis(119232), filter_pars:IndexAxis(16), bias_lines:LabelAxis(16))"
      ]
     },
     "execution_count": 16,
     "metadata": {},
     "output_type": "execute_result"
    }
   ],
   "source": [
    "detrend_tod( aman )"
   ]
  },
  {
   "cell_type": "code",
   "execution_count": 17,
   "id": "80fb81a3-a067-44db-86ec-d81b81968efe",
   "metadata": {
    "tags": []
   },
   "outputs": [
    {
     "data": {
      "image/png": "[encoded data removed]",
      "text/plain": [
       "<Figure size 576x216 with 1 Axes>"
      ]
     },
     "metadata": {
      "needs_background": "light"
     },
     "output_type": "display_data"
    }
   ],
   "source": [
    "fig = plt.figure(figsize=(8,3))\n",
    "\n",
    "for i in range(0,aman.dets.count,10):\n",
    "    plt.plot( aman.timestamps, aman.signal[i] )\n",
    "plt.ylabel('Signal (pA)')\n",
    "plt.xlabel('Time (s)')\n",
    "\n",
    "fig.tight_layout()"
   ]
  },
  {
   "cell_type": "markdown",
   "id": "2cd07e3e-c042-4960-a0b6-3bafdddbb505",
   "metadata": {},
   "source": [
    "rfft: This function computes the one-dimensional n-point discrete Fourier Transform (DFT) of a real-valued array by means of an efficient algorithm called the Fast Fourier Transform (FFT)."
   ]
  },
  {
   "cell_type": "code",
   "execution_count": 18,
   "id": "21b99257-3b3a-4275-bfbd-e4ae093bb917",
   "metadata": {},
   "outputs": [],
   "source": [
    "ffts, freqs = rfft(aman, resize=None)"
   ]
  },
  {
   "cell_type": "code",
   "execution_count": 19,
   "id": "581e0c6e-8a95-4e07-afb9-13aec04d1773",
   "metadata": {},
   "outputs": [],
   "source": [
    "tsamp = np.median(np.diff(aman.timestamps))\n",
    "norm_fact =  np.sqrt(2)*(1.0/tsamp)*np.sum(np.abs(np.hanning(aman.samps.count))**2)\n",
    "##\n",
    "fmsk = np.all([freqs > 11, freqs<20], axis=0)\n",
    "det_white_noise = np.median(np.sqrt(np.abs(ffts[:,fmsk])**2/norm_fact), axis=1)"
   ]
  },
  {
   "cell_type": "code",
   "execution_count": 20,
   "id": "7c822ce1-7189-4d29-83a9-d65703ef61c5",
   "metadata": {},
   "outputs": [
    {
     "data": {
      "image/png": "[encoded data removed]",
      "text/plain": [
       "<Figure size 504x234 with 2 Axes>"
      ]
     },
     "metadata": {
      "needs_background": "light"
     },
     "output_type": "display_data"
    }
   ],
   "source": [
    "fig = plt.figure(figsize=(7,3.25))\n",
    "plt.subplot(1,2,1)\n",
    "for i in range(aman.dets.count):\n",
    "    plt.loglog( freqs, np.sqrt(np.abs(ffts[i])**2/norm_fact) )\n",
    "plt.ylabel('PSD $\\mathrm{pA / \\sqrt{Hz}}$')\n",
    "plt.xlabel('Frequency (Hz)')\n",
    "plt.xlim(None, np.max(freqs))\n",
    "plt.subplot(1,2,2)\n",
    "plt.hist(det_white_noise,bins=50, range=(10,1200))\n",
    "plt.ylabel('N Channels');\n",
    "plt.xlabel('White Noise Level  $\\mathrm{pA / \\sqrt{Hz}}$)')\n",
    "fig.tight_layout()"
   ]
  },
  {
   "cell_type": "markdown",
   "id": "7f1d9153-8f54-4ac1-ae2e-071d5f6268a2",
   "metadata": {},
   "source": [
    "## Filtering"
   ]
  },
  {
   "cell_type": "code",
   "execution_count": 21,
   "id": "a755c5ed-de78-43e8-b20a-85933a3ce3db",
   "metadata": {},
   "outputs": [
    {
     "data": {
      "text/plain": [
       "AxisManager(timestamps[samps], status*[filter_pars], signal[dets,samps], ch_info*[dets], primary*[samps], biases[bias_lines,samps], flags*[dets,samps], sig_mean[samps], pA_to_pW[dets], filt_signal[817,119232], dets:LabelAxis(817), samps:OffsetAxis(119232), filter_pars:IndexAxis(16), bias_lines:LabelAxis(16))"
      ]
     },
     "execution_count": 21,
     "metadata": {},
     "output_type": "execute_result"
    }
   ],
   "source": [
    "my_special_filter = filters.high_pass_butter4(fc=4)*filters.low_pass_butter4(fc=12)\n",
    "aman.wrap('filt_signal', filters.fourier_filter( aman, my_special_filter ) )\n",
    "\n",
    "## If you want to replace signal you can do: aman.signal = filters.fourier_filter( aman, my_special_filter )"
   ]
  },
  {
   "cell_type": "code",
   "execution_count": 22,
   "id": "c4d1832d-7bdc-4aca-b4ee-93f892ed3730",
   "metadata": {},
   "outputs": [
    {
     "name": "stdout",
     "output_type": "stream",
     "text": [
      "[756]\n"
     ]
    }
   ],
   "source": [
    "## specific to that one LATRt observation\n",
    "good_channels = [236, 274, 364, 458,]\n",
    "## \n",
    "good_idx = np.where( np.all([aman.ch_info.band == 3,\n",
    "                             [ch in good_channels for ch in aman.ch_info.channel]], axis=0))[0]\n",
    "print(good_idx)"
   ]
  },
  {
   "cell_type": "code",
   "execution_count": 23,
   "id": "827ca741-eda9-4b18-8adf-f63485f58c4d",
   "metadata": {},
   "outputs": [
    {
     "data": {
      "image/png": "[encoded data removed]",
      "text/plain": [
       "<Figure size 504x216 with 1 Axes>"
      ]
     },
     "metadata": {
      "needs_background": "light"
     },
     "output_type": "display_data"
    }
   ],
   "source": [
    "fig = plt.figure(figsize=(7,3))\n",
    "\n",
    "tmsk = np.all( [aman.timestamps >= aman.timestamps[0]+10,\n",
    "                aman.timestamps < aman.timestamps[0]+12], axis=0)\n",
    "for i in good_idx:\n",
    "    plt.plot( aman.timestamps[tmsk], aman.signal[i][tmsk],  ls='--' )\n",
    "    plt.plot( aman.timestamps[tmsk], aman.filt_signal[i][tmsk], label=aman.dets.vals[i] )\n",
    "\n",
    "plt.legend(ncol=2)\n",
    "plt.ylabel( 'Filtered Signal (pA)' )\n",
    "plt.xlabel( 'Time (s)' )\n",
    "fig.tight_layout()"
   ]
  },
  {
   "cell_type": "markdown",
   "id": "57067574-fdb5-4517-9eb6-13863e128707",
   "metadata": {},
   "source": [
    "## Flagging and masking"
   ]
  },
  {
   "cell_type": "code",
   "execution_count": 24,
   "id": "a238ab1c-85b1-4338-8aa8-b6b7915371be",
   "metadata": {},
   "outputs": [],
   "source": [
    "from sotodlib.core import FlagManager\n",
    "import sotodlib.flags as flags"
   ]
  },
  {
   "cell_type": "code",
   "execution_count": 25,
   "id": "dcf4ab3b-1864-4d8c-a423-96f46ffc7d99",
   "metadata": {},
   "outputs": [
    {
     "data": {
      "text/plain": [
       "FlagManager(dets:LabelAxis(817), samps:OffsetAxis(119232))"
      ]
     },
     "execution_count": 25,
     "metadata": {},
     "output_type": "execute_result"
    }
   ],
   "source": [
    "aman.flags"
   ]
  },
  {
   "cell_type": "code",
   "execution_count": 26,
   "id": "c70de478-167a-4beb-9e12-9233289023f4",
   "metadata": {},
   "outputs": [],
   "source": [
    "from so3g.proj import Ranges, RangesMatrix"
   ]
  },
  {
   "cell_type": "code",
   "execution_count": 27,
   "id": "35232daf-b692-411c-80b1-6876f5d6c81a",
   "metadata": {},
   "outputs": [
    {
     "name": "stdout",
     "output_type": "stream",
     "text": [
      "T1: [[100 200]]\n",
      "~T1: [[     0    100]\n",
      " [   200 119232]]\n",
      "T2: [[150 250]]\n",
      "T1 + T2 = [[100 250]]\n",
      "T1 * T2 = [[150 200]]\n"
     ]
    }
   ],
   "source": [
    "t1_flag = Ranges(aman.samps.count, aman.samps.offset)\n",
    "t1_flag.add_interval( 100,200)\n",
    "print('T1: {}'.format(t1_flag.ranges()))\n",
    "print('~T1: {}'.format((~t1_flag).ranges()))\n",
    "\n",
    "t2_flag = Ranges(aman.samps.count,aman.samps.offset)\n",
    "t2_flag.add_interval( 150,250)\n",
    "print('T2: {}'.format(t2_flag.ranges()))\n",
    "\n",
    "print('T1 + T2 = {}'.format( (t1_flag+t2_flag).ranges()))\n",
    "print('T1 * T2 = {}'.format( (t1_flag*t2_flag).ranges()))"
   ]
  },
  {
   "cell_type": "code",
   "execution_count": 28,
   "id": "40bc197e-51c0-4618-adff-4b512ec5b680",
   "metadata": {},
   "outputs": [],
   "source": [
    "aman.flags.wrap( 'high_noise', det_white_noise > 1200)\n",
    "aman.flags.wrap( 'low_noise', det_white_noise < 100)"
   ]
  },
  {
   "cell_type": "code",
   "execution_count": 29,
   "id": "940fcceb-99a7-4c65-a490-9b1352e50a91",
   "metadata": {},
   "outputs": [
    {
     "data": {
      "text/plain": [
       "FlagManager(high_noise[dets,samps], low_noise[dets,samps], dets:LabelAxis(817), samps:OffsetAxis(119232))"
      ]
     },
     "execution_count": 29,
     "metadata": {},
     "output_type": "execute_result"
    }
   ],
   "source": [
    "aman.flags"
   ]
  },
  {
   "cell_type": "code",
   "execution_count": 30,
   "id": "8cc7387d-133b-4b7b-85bd-5fad4128c771",
   "metadata": {},
   "outputs": [
    {
     "data": {
      "text/plain": [
       "array(['sbch_0_000', 'sbch_0_007', 'sbch_0_010', 'sbch_0_011',\n",
       "       'sbch_0_012', 'sbch_0_013', 'sbch_0_016', 'sbch_0_018',\n",
       "       'sbch_0_019', 'sbch_0_023', 'sbch_0_024', 'sbch_0_026',\n",
       "       'sbch_0_027', 'sbch_0_032', 'sbch_0_036', 'sbch_0_040',\n",
       "       'sbch_0_043', 'sbch_0_048', 'sbch_0_056', 'sbch_0_058',\n",
       "       'sbch_0_060', 'sbch_0_064', 'sbch_0_066', 'sbch_0_067',\n",
       "       'sbch_0_072', 'sbch_0_082', 'sbch_0_084', 'sbch_0_093',\n",
       "       'sbch_0_095', 'sbch_0_096', 'sbch_0_098', 'sbch_0_103',\n",
       "       'sbch_0_106', 'sbch_0_114', 'sbch_0_117', 'sbch_0_119',\n",
       "       'sbch_0_122', 'sbch_0_124', 'sbch_0_128', 'sbch_0_132',\n",
       "       'sbch_0_136', 'sbch_0_138', 'sbch_0_141', 'sbch_0_146',\n",
       "       'sbch_0_147', 'sbch_0_149', 'sbch_0_151', 'sbch_0_154',\n",
       "       'sbch_0_164', 'sbch_0_168', 'sbch_0_171', 'sbch_0_175',\n",
       "       'sbch_0_176', 'sbch_0_178', 'sbch_0_181', 'sbch_0_183',\n",
       "       'sbch_0_184', 'sbch_0_186', 'sbch_0_189', 'sbch_0_192',\n",
       "       'sbch_0_195', 'sbch_0_196', 'sbch_0_207', 'sbch_0_208',\n",
       "       'sbch_0_210', 'sbch_0_212', 'sbch_0_215', 'sbch_0_221',\n",
       "       'sbch_0_223', 'sbch_0_224', 'sbch_0_229', 'sbch_0_231',\n",
       "       'sbch_0_235', 'sbch_0_239', 'sbch_0_244', 'sbch_0_245',\n",
       "       'sbch_0_248', 'sbch_0_252', 'sbch_0_258', 'sbch_0_260',\n",
       "       'sbch_0_264', 'sbch_0_266', 'sbch_0_267', 'sbch_0_271',\n",
       "       'sbch_0_274', 'sbch_0_275', 'sbch_0_276', 'sbch_0_280',\n",
       "       'sbch_0_281', 'sbch_0_284', 'sbch_0_287', 'sbch_0_292',\n",
       "       'sbch_0_295', 'sbch_0_299', 'sbch_0_303', 'sbch_0_306',\n",
       "       'sbch_0_308', 'sbch_0_309', 'sbch_0_311', 'sbch_0_317',\n",
       "       'sbch_0_322', 'sbch_0_330', 'sbch_0_332', 'sbch_0_335',\n",
       "       'sbch_0_336', 'sbch_0_339', 'sbch_0_343', 'sbch_0_346',\n",
       "       'sbch_0_348', 'sbch_0_349', 'sbch_0_354', 'sbch_0_360',\n",
       "       'sbch_0_362', 'sbch_0_365', 'sbch_0_368', 'sbch_0_370',\n",
       "       'sbch_0_372', 'sbch_0_376', 'sbch_0_386', 'sbch_0_388',\n",
       "       'sbch_0_399', 'sbch_0_400', 'sbch_0_402', 'sbch_0_403',\n",
       "       'sbch_0_404', 'sbch_0_405', 'sbch_0_407', 'sbch_0_408',\n",
       "       'sbch_0_410', 'sbch_0_412', 'sbch_0_413', 'sbch_0_415',\n",
       "       'sbch_0_416', 'sbch_0_424', 'sbch_0_429', 'sbch_0_434',\n",
       "       'sbch_0_436', 'sbch_0_437', 'sbch_0_439', 'sbch_0_440',\n",
       "       'sbch_0_442', 'sbch_0_444', 'sbch_0_445', 'sbch_0_455',\n",
       "       'sbch_0_456', 'sbch_0_466', 'sbch_0_467', 'sbch_0_468',\n",
       "       'sbch_0_472', 'sbch_0_474', 'sbch_0_477', 'sbch_0_479',\n",
       "       'sbch_0_480', 'sbch_0_482', 'sbch_0_487', 'sbch_0_490',\n",
       "       'sbch_0_492', 'sbch_0_495', 'sbch_0_496', 'sbch_0_498',\n",
       "       'sbch_0_501', 'sbch_0_508', 'sbch_1_002', 'sbch_1_004',\n",
       "       'sbch_1_006', 'sbch_1_008', 'sbch_1_010', 'sbch_1_011',\n",
       "       'sbch_1_012', 'sbch_1_015', 'sbch_1_016', 'sbch_1_018',\n",
       "       'sbch_1_020', 'sbch_1_021', 'sbch_1_023', 'sbch_1_027',\n",
       "       'sbch_1_029', 'sbch_1_031', 'sbch_1_036', 'sbch_1_037',\n",
       "       'sbch_1_040', 'sbch_1_045', 'sbch_1_051', 'sbch_1_059',\n",
       "       'sbch_1_060', 'sbch_1_064', 'sbch_1_066', 'sbch_1_068',\n",
       "       'sbch_1_076', 'sbch_1_077', 'sbch_1_080', 'sbch_1_083',\n",
       "       'sbch_1_085', 'sbch_1_087', 'sbch_1_090', 'sbch_1_095',\n",
       "       'sbch_1_101', 'sbch_1_102', 'sbch_1_103', 'sbch_1_104',\n",
       "       'sbch_1_106', 'sbch_1_107', 'sbch_1_108', 'sbch_1_111',\n",
       "       'sbch_1_115', 'sbch_1_116', 'sbch_1_122', 'sbch_1_123',\n",
       "       'sbch_1_124', 'sbch_1_127', 'sbch_1_130', 'sbch_1_132',\n",
       "       'sbch_1_140', 'sbch_1_141', 'sbch_1_144', 'sbch_1_146',\n",
       "       'sbch_1_147', 'sbch_1_151', 'sbch_1_154', 'sbch_1_159',\n",
       "       'sbch_1_160', 'sbch_1_164', 'sbch_1_166', 'sbch_1_168',\n",
       "       'sbch_1_172', 'sbch_1_173', 'sbch_1_175', 'sbch_1_178',\n",
       "       'sbch_1_179', 'sbch_1_186', 'sbch_1_187', 'sbch_1_188',\n",
       "       'sbch_1_191', 'sbch_1_192', 'sbch_1_196', 'sbch_1_197',\n",
       "       'sbch_1_200', 'sbch_1_204', 'sbch_1_205', 'sbch_1_210',\n",
       "       'sbch_1_211', 'sbch_1_218', 'sbch_1_220', 'sbch_1_224',\n",
       "       'sbch_1_226', 'sbch_1_228', 'sbch_1_230', 'sbch_1_231',\n",
       "       'sbch_1_232', 'sbch_1_237', 'sbch_1_239', 'sbch_1_243',\n",
       "       'sbch_1_244', 'sbch_1_247', 'sbch_1_250', 'sbch_1_252',\n",
       "       'sbch_1_258', 'sbch_1_262', 'sbch_1_264', 'sbch_1_267',\n",
       "       'sbch_1_269', 'sbch_1_272', 'sbch_1_276', 'sbch_1_277',\n",
       "       'sbch_1_282', 'sbch_1_283', 'sbch_1_285', 'sbch_1_287',\n",
       "       'sbch_1_288', 'sbch_1_292', 'sbch_1_293', 'sbch_1_300',\n",
       "       'sbch_1_301', 'sbch_1_303', 'sbch_1_306', 'sbch_1_307',\n",
       "       'sbch_1_311', 'sbch_1_315', 'sbch_1_316', 'sbch_1_319',\n",
       "       'sbch_1_320', 'sbch_1_324', 'sbch_1_325', 'sbch_1_328',\n",
       "       'sbch_1_332', 'sbch_1_333', 'sbch_1_341', 'sbch_1_343',\n",
       "       'sbch_1_347', 'sbch_1_348', 'sbch_1_352', 'sbch_1_356',\n",
       "       'sbch_1_357', 'sbch_1_358', 'sbch_1_360', 'sbch_1_364',\n",
       "       'sbch_1_365', 'sbch_1_367', 'sbch_1_368', 'sbch_1_370',\n",
       "       'sbch_1_371', 'sbch_1_375', 'sbch_1_379', 'sbch_1_384',\n",
       "       'sbch_1_386', 'sbch_1_388', 'sbch_1_392', 'sbch_1_395',\n",
       "       'sbch_1_396', 'sbch_1_397', 'sbch_1_400', 'sbch_1_402',\n",
       "       'sbch_1_403', 'sbch_1_404', 'sbch_1_405', 'sbch_1_410',\n",
       "       'sbch_1_411', 'sbch_1_412', 'sbch_1_415', 'sbch_1_419',\n",
       "       'sbch_1_420', 'sbch_1_421', 'sbch_1_424', 'sbch_1_428',\n",
       "       'sbch_1_429', 'sbch_1_434', 'sbch_1_435', 'sbch_1_436',\n",
       "       'sbch_1_439', 'sbch_1_442', 'sbch_1_448', 'sbch_1_460',\n",
       "       'sbch_1_466', 'sbch_1_467', 'sbch_1_471', 'sbch_1_474',\n",
       "       'sbch_1_475', 'sbch_1_476', 'sbch_1_480', 'sbch_1_485',\n",
       "       'sbch_1_486', 'sbch_1_487', 'sbch_1_488', 'sbch_1_490',\n",
       "       'sbch_1_491', 'sbch_1_495', 'sbch_1_496', 'sbch_1_498',\n",
       "       'sbch_1_499', 'sbch_1_500', 'sbch_1_504', 'sbch_2_000',\n",
       "       'sbch_2_002', 'sbch_2_003', 'sbch_2_005', 'sbch_2_006',\n",
       "       'sbch_2_007', 'sbch_2_010', 'sbch_2_015', 'sbch_2_016',\n",
       "       'sbch_2_019', 'sbch_2_021', 'sbch_2_022', 'sbch_2_025',\n",
       "       'sbch_2_029', 'sbch_2_031', 'sbch_2_037', 'sbch_2_043',\n",
       "       'sbch_2_044', 'sbch_2_045', 'sbch_2_051', 'sbch_2_053',\n",
       "       'sbch_2_056', 'sbch_2_057', 'sbch_2_058', 'sbch_2_060',\n",
       "       'sbch_2_061', 'sbch_2_063', 'sbch_2_064', 'sbch_2_066',\n",
       "       'sbch_2_068', 'sbch_2_069', 'sbch_2_070', 'sbch_2_071',\n",
       "       'sbch_2_076', 'sbch_2_077', 'sbch_2_082', 'sbch_2_090',\n",
       "       'sbch_2_093', 'sbch_2_096', 'sbch_2_099', 'sbch_2_100',\n",
       "       'sbch_2_107', 'sbch_2_115', 'sbch_2_117', 'sbch_2_121',\n",
       "       'sbch_2_123', 'sbch_2_128', 'sbch_2_130', 'sbch_2_133',\n",
       "       'sbch_2_134', 'sbch_2_135', 'sbch_2_138', 'sbch_2_139',\n",
       "       'sbch_2_140', 'sbch_2_143', 'sbch_2_149', 'sbch_2_151',\n",
       "       'sbch_2_160', 'sbch_2_162', 'sbch_2_165', 'sbch_2_171',\n",
       "       'sbch_2_172', 'sbch_2_179', 'sbch_2_180', 'sbch_2_181',\n",
       "       'sbch_2_185', 'sbch_2_188', 'sbch_2_195', 'sbch_2_196',\n",
       "       'sbch_2_198', 'sbch_2_199', 'sbch_2_204', 'sbch_2_205',\n",
       "       'sbch_2_210', 'sbch_2_211', 'sbch_2_217', 'sbch_2_218',\n",
       "       'sbch_2_219', 'sbch_2_221', 'sbch_2_223', 'sbch_2_224',\n",
       "       'sbch_2_226', 'sbch_2_227', 'sbch_2_228', 'sbch_2_237',\n",
       "       'sbch_2_239', 'sbch_2_242', 'sbch_2_243', 'sbch_2_244',\n",
       "       'sbch_2_245', 'sbch_2_249', 'sbch_2_250', 'sbch_2_251',\n",
       "       'sbch_2_252', 'sbch_2_253', 'sbch_2_259', 'sbch_2_260',\n",
       "       'sbch_2_263', 'sbch_2_267', 'sbch_2_268', 'sbch_2_269',\n",
       "       'sbch_2_274', 'sbch_2_276', 'sbch_2_285', 'sbch_2_287',\n",
       "       'sbch_2_288', 'sbch_2_290', 'sbch_2_291', 'sbch_2_292',\n",
       "       'sbch_2_293', 'sbch_2_295', 'sbch_2_301', 'sbch_2_311',\n",
       "       'sbch_2_313', 'sbch_2_314', 'sbch_2_316', 'sbch_2_319',\n",
       "       'sbch_2_322', 'sbch_2_323', 'sbch_2_332', 'sbch_2_333',\n",
       "       'sbch_2_338', 'sbch_2_341', 'sbch_2_343', 'sbch_2_346',\n",
       "       'sbch_2_347', 'sbch_2_351', 'sbch_2_357', 'sbch_2_358',\n",
       "       'sbch_2_362', 'sbch_2_364', 'sbch_2_365', 'sbch_2_372',\n",
       "       'sbch_2_375', 'sbch_2_378', 'sbch_2_380', 'sbch_2_381',\n",
       "       'sbch_2_383', 'sbch_2_387', 'sbch_2_388', 'sbch_2_394',\n",
       "       'sbch_2_397', 'sbch_2_403', 'sbch_2_404', 'sbch_2_405',\n",
       "       'sbch_2_409', 'sbch_2_410', 'sbch_2_415', 'sbch_2_419',\n",
       "       'sbch_2_420', 'sbch_2_421', 'sbch_2_423', 'sbch_2_426',\n",
       "       'sbch_2_428', 'sbch_2_429', 'sbch_2_431', 'sbch_2_436',\n",
       "       'sbch_2_439', 'sbch_2_442', 'sbch_2_443', 'sbch_2_444',\n",
       "       'sbch_2_447', 'sbch_2_448', 'sbch_2_450', 'sbch_2_451',\n",
       "       'sbch_2_452', 'sbch_2_453', 'sbch_2_454', 'sbch_2_458',\n",
       "       'sbch_2_468', 'sbch_2_469', 'sbch_2_471', 'sbch_2_473',\n",
       "       'sbch_2_474', 'sbch_2_484', 'sbch_2_485', 'sbch_2_486',\n",
       "       'sbch_2_491', 'sbch_2_499', 'sbch_2_500', 'sbch_2_503',\n",
       "       'sbch_2_504', 'sbch_3_002', 'sbch_3_003', 'sbch_3_007',\n",
       "       'sbch_3_015', 'sbch_3_018', 'sbch_3_019', 'sbch_3_023',\n",
       "       'sbch_3_024', 'sbch_3_025', 'sbch_3_026', 'sbch_3_027',\n",
       "       'sbch_3_029', 'sbch_3_035', 'sbch_3_039', 'sbch_3_040',\n",
       "       'sbch_3_042', 'sbch_3_044', 'sbch_3_047', 'sbch_3_050',\n",
       "       'sbch_3_051', 'sbch_3_057', 'sbch_3_060', 'sbch_3_061',\n",
       "       'sbch_3_063', 'sbch_3_064', 'sbch_3_066', 'sbch_3_068',\n",
       "       'sbch_3_071', 'sbch_3_074', 'sbch_3_075', 'sbch_3_079',\n",
       "       'sbch_3_080', 'sbch_3_082', 'sbch_3_083', 'sbch_3_091',\n",
       "       'sbch_3_092', 'sbch_3_093', 'sbch_3_099', 'sbch_3_103',\n",
       "       'sbch_3_106', 'sbch_3_111', 'sbch_3_119', 'sbch_3_120',\n",
       "       'sbch_3_121', 'sbch_3_124', 'sbch_3_130', 'sbch_3_131',\n",
       "       'sbch_3_135', 'sbch_3_138', 'sbch_3_146', 'sbch_3_148',\n",
       "       'sbch_3_151', 'sbch_3_152', 'sbch_3_153', 'sbch_3_155',\n",
       "       'sbch_3_157', 'sbch_3_159', 'sbch_3_160', 'sbch_3_167',\n",
       "       'sbch_3_171', 'sbch_3_173', 'sbch_3_175', 'sbch_3_176',\n",
       "       'sbch_3_178', 'sbch_3_179', 'sbch_3_180', 'sbch_3_185',\n",
       "       'sbch_3_188', 'sbch_3_191', 'sbch_3_192', 'sbch_3_195',\n",
       "       'sbch_3_200', 'sbch_3_203', 'sbch_3_207', 'sbch_3_208',\n",
       "       'sbch_3_211', 'sbch_3_212', 'sbch_3_218', 'sbch_3_221',\n",
       "       'sbch_3_226', 'sbch_3_231', 'sbch_3_235', 'sbch_3_237',\n",
       "       'sbch_3_242', 'sbch_3_248', 'sbch_3_251', 'sbch_3_252',\n",
       "       'sbch_3_253', 'sbch_3_255', 'sbch_3_256', 'sbch_3_261',\n",
       "       'sbch_3_262', 'sbch_3_263', 'sbch_3_268', 'sbch_3_276',\n",
       "       'sbch_3_284', 'sbch_3_285', 'sbch_3_287', 'sbch_3_288',\n",
       "       'sbch_3_290', 'sbch_3_291', 'sbch_3_294', 'sbch_3_295',\n",
       "       'sbch_3_296', 'sbch_3_298', 'sbch_3_299', 'sbch_3_301',\n",
       "       'sbch_3_304', 'sbch_3_312', 'sbch_3_314', 'sbch_3_315',\n",
       "       'sbch_3_317', 'sbch_3_319', 'sbch_3_323', 'sbch_3_324',\n",
       "       'sbch_3_326', 'sbch_3_328', 'sbch_3_331', 'sbch_3_332',\n",
       "       'sbch_3_340', 'sbch_3_343', 'sbch_3_344', 'sbch_3_345',\n",
       "       'sbch_3_347', 'sbch_3_348', 'sbch_3_351', 'sbch_3_354',\n",
       "       'sbch_3_355', 'sbch_3_364', 'sbch_3_365', 'sbch_3_368',\n",
       "       'sbch_3_371', 'sbch_3_372', 'sbch_3_375', 'sbch_3_377',\n",
       "       'sbch_3_380', 'sbch_3_384', 'sbch_3_388', 'sbch_3_390',\n",
       "       'sbch_3_396', 'sbch_3_399', 'sbch_3_403', 'sbch_3_408',\n",
       "       'sbch_3_418', 'sbch_3_419', 'sbch_3_422', 'sbch_3_424',\n",
       "       'sbch_3_426', 'sbch_3_427', 'sbch_3_429', 'sbch_3_432',\n",
       "       'sbch_3_434', 'sbch_3_436', 'sbch_3_440', 'sbch_3_444',\n",
       "       'sbch_3_445', 'sbch_3_448', 'sbch_3_450', 'sbch_3_451',\n",
       "       'sbch_3_459', 'sbch_3_460', 'sbch_3_464', 'sbch_3_466',\n",
       "       'sbch_3_473', 'sbch_3_474', 'sbch_3_475', 'sbch_3_476',\n",
       "       'sbch_3_480', 'sbch_3_483', 'sbch_3_486', 'sbch_3_488',\n",
       "       'sbch_3_490', 'sbch_3_492', 'sbch_3_496', 'sbch_3_500',\n",
       "       'sbch_3_503', 'sbch_3_504', 'sbch_3_505'], dtype='<U10')"
      ]
     },
     "execution_count": 30,
     "metadata": {},
     "output_type": "execute_result"
    }
   ],
   "source": [
    "## Check which detectors have any cuts\n",
    "aman.flags.has_cuts()\n",
    "#aman.flags.reduce()[good_idx[0]].mask()"
   ]
  },
  {
   "cell_type": "code",
   "execution_count": 31,
   "id": "9903c383-a24a-4a65-8fee-c1385dcf8a33",
   "metadata": {},
   "outputs": [
    {
     "data": {
      "text/plain": [
       "array(['sbch_0_007', 'sbch_0_010', 'sbch_0_018', 'sbch_0_229',\n",
       "       'sbch_0_280', 'sbch_0_281', 'sbch_0_330', 'sbch_1_031',\n",
       "       'sbch_1_127', 'sbch_1_319', 'sbch_1_364', 'sbch_1_419',\n",
       "       'sbch_1_475', 'sbch_2_010', 'sbch_2_056', 'sbch_2_139',\n",
       "       'sbch_2_269', 'sbch_2_362', 'sbch_2_409', 'sbch_3_124',\n",
       "       'sbch_3_371', 'sbch_3_486'], dtype='<U10')"
      ]
     },
     "execution_count": 31,
     "metadata": {},
     "output_type": "execute_result"
    }
   ],
   "source": [
    "## Check which channels are cut for high noise\n",
    "aman.flags.has_cuts(flags=['high_noise'])"
   ]
  },
  {
   "cell_type": "code",
   "execution_count": 32,
   "id": "5c1b7546-1c11-4d6e-90ac-4f3efa4b3160",
   "metadata": {},
   "outputs": [
    {
     "data": {
      "text/plain": [
       "array(['sbch_0_000', 'sbch_0_011', 'sbch_0_012', 'sbch_0_013',\n",
       "       'sbch_0_016', 'sbch_0_019', 'sbch_0_023', 'sbch_0_024',\n",
       "       'sbch_0_026', 'sbch_0_027', 'sbch_0_032', 'sbch_0_036',\n",
       "       'sbch_0_040', 'sbch_0_043', 'sbch_0_048', 'sbch_0_056',\n",
       "       'sbch_0_058', 'sbch_0_060', 'sbch_0_064', 'sbch_0_066',\n",
       "       'sbch_0_067', 'sbch_0_072', 'sbch_0_082', 'sbch_0_084',\n",
       "       'sbch_0_093', 'sbch_0_095', 'sbch_0_096', 'sbch_0_098',\n",
       "       'sbch_0_103', 'sbch_0_106', 'sbch_0_114', 'sbch_0_117',\n",
       "       'sbch_0_119', 'sbch_0_122', 'sbch_0_124', 'sbch_0_128',\n",
       "       'sbch_0_132', 'sbch_0_136', 'sbch_0_138', 'sbch_0_141',\n",
       "       'sbch_0_146', 'sbch_0_147', 'sbch_0_149', 'sbch_0_151',\n",
       "       'sbch_0_154', 'sbch_0_164', 'sbch_0_168', 'sbch_0_171',\n",
       "       'sbch_0_175', 'sbch_0_176', 'sbch_0_178', 'sbch_0_181',\n",
       "       'sbch_0_183', 'sbch_0_184', 'sbch_0_186', 'sbch_0_189',\n",
       "       'sbch_0_192', 'sbch_0_195', 'sbch_0_196', 'sbch_0_207',\n",
       "       'sbch_0_208', 'sbch_0_210', 'sbch_0_212', 'sbch_0_215',\n",
       "       'sbch_0_221', 'sbch_0_223', 'sbch_0_224', 'sbch_0_231',\n",
       "       'sbch_0_235', 'sbch_0_239', 'sbch_0_244', 'sbch_0_245',\n",
       "       'sbch_0_248', 'sbch_0_252', 'sbch_0_258', 'sbch_0_260',\n",
       "       'sbch_0_264', 'sbch_0_266', 'sbch_0_267', 'sbch_0_271',\n",
       "       'sbch_0_274', 'sbch_0_275', 'sbch_0_276', 'sbch_0_284',\n",
       "       'sbch_0_287', 'sbch_0_292', 'sbch_0_295', 'sbch_0_299',\n",
       "       'sbch_0_303', 'sbch_0_306', 'sbch_0_308', 'sbch_0_309',\n",
       "       'sbch_0_311', 'sbch_0_317', 'sbch_0_322', 'sbch_0_332',\n",
       "       'sbch_0_335', 'sbch_0_336', 'sbch_0_339', 'sbch_0_343',\n",
       "       'sbch_0_346', 'sbch_0_348', 'sbch_0_349', 'sbch_0_354',\n",
       "       'sbch_0_360', 'sbch_0_362', 'sbch_0_365', 'sbch_0_368',\n",
       "       'sbch_0_370', 'sbch_0_372', 'sbch_0_376', 'sbch_0_386',\n",
       "       'sbch_0_388', 'sbch_0_399', 'sbch_0_400', 'sbch_0_402',\n",
       "       'sbch_0_403', 'sbch_0_404', 'sbch_0_405', 'sbch_0_407',\n",
       "       'sbch_0_408', 'sbch_0_410', 'sbch_0_412', 'sbch_0_413',\n",
       "       'sbch_0_415', 'sbch_0_416', 'sbch_0_424', 'sbch_0_429',\n",
       "       'sbch_0_434', 'sbch_0_436', 'sbch_0_437', 'sbch_0_439',\n",
       "       'sbch_0_440', 'sbch_0_442', 'sbch_0_444', 'sbch_0_445',\n",
       "       'sbch_0_455', 'sbch_0_456', 'sbch_0_466', 'sbch_0_467',\n",
       "       'sbch_0_468', 'sbch_0_472', 'sbch_0_474', 'sbch_0_477',\n",
       "       'sbch_0_479', 'sbch_0_480', 'sbch_0_482', 'sbch_0_487',\n",
       "       'sbch_0_490', 'sbch_0_492', 'sbch_0_495', 'sbch_0_496',\n",
       "       'sbch_0_498', 'sbch_0_501', 'sbch_0_508', 'sbch_1_002',\n",
       "       'sbch_1_004', 'sbch_1_006', 'sbch_1_008', 'sbch_1_010',\n",
       "       'sbch_1_011', 'sbch_1_012', 'sbch_1_015', 'sbch_1_016',\n",
       "       'sbch_1_018', 'sbch_1_020', 'sbch_1_021', 'sbch_1_023',\n",
       "       'sbch_1_027', 'sbch_1_029', 'sbch_1_036', 'sbch_1_037',\n",
       "       'sbch_1_040', 'sbch_1_045', 'sbch_1_051', 'sbch_1_059',\n",
       "       'sbch_1_060', 'sbch_1_064', 'sbch_1_066', 'sbch_1_068',\n",
       "       'sbch_1_076', 'sbch_1_077', 'sbch_1_080', 'sbch_1_083',\n",
       "       'sbch_1_085', 'sbch_1_087', 'sbch_1_090', 'sbch_1_095',\n",
       "       'sbch_1_101', 'sbch_1_102', 'sbch_1_103', 'sbch_1_104',\n",
       "       'sbch_1_106', 'sbch_1_107', 'sbch_1_108', 'sbch_1_111',\n",
       "       'sbch_1_115', 'sbch_1_116', 'sbch_1_122', 'sbch_1_123',\n",
       "       'sbch_1_124', 'sbch_1_130', 'sbch_1_132', 'sbch_1_140',\n",
       "       'sbch_1_141', 'sbch_1_144', 'sbch_1_146', 'sbch_1_147',\n",
       "       'sbch_1_151', 'sbch_1_154', 'sbch_1_159', 'sbch_1_160',\n",
       "       'sbch_1_164', 'sbch_1_166', 'sbch_1_168', 'sbch_1_172',\n",
       "       'sbch_1_173', 'sbch_1_175', 'sbch_1_178', 'sbch_1_179',\n",
       "       'sbch_1_186', 'sbch_1_187', 'sbch_1_188', 'sbch_1_191',\n",
       "       'sbch_1_192', 'sbch_1_196', 'sbch_1_197', 'sbch_1_200',\n",
       "       'sbch_1_204', 'sbch_1_205', 'sbch_1_210', 'sbch_1_211',\n",
       "       'sbch_1_218', 'sbch_1_220', 'sbch_1_224', 'sbch_1_226',\n",
       "       'sbch_1_228', 'sbch_1_230', 'sbch_1_231', 'sbch_1_232',\n",
       "       'sbch_1_237', 'sbch_1_239', 'sbch_1_243', 'sbch_1_244',\n",
       "       'sbch_1_247', 'sbch_1_250', 'sbch_1_252', 'sbch_1_258',\n",
       "       'sbch_1_262', 'sbch_1_264', 'sbch_1_267', 'sbch_1_269',\n",
       "       'sbch_1_272', 'sbch_1_276', 'sbch_1_277', 'sbch_1_282',\n",
       "       'sbch_1_283', 'sbch_1_285', 'sbch_1_287', 'sbch_1_288',\n",
       "       'sbch_1_292', 'sbch_1_293', 'sbch_1_300', 'sbch_1_301',\n",
       "       'sbch_1_303', 'sbch_1_306', 'sbch_1_307', 'sbch_1_311',\n",
       "       'sbch_1_315', 'sbch_1_316', 'sbch_1_320', 'sbch_1_324',\n",
       "       'sbch_1_325', 'sbch_1_328', 'sbch_1_332', 'sbch_1_333',\n",
       "       'sbch_1_341', 'sbch_1_343', 'sbch_1_347', 'sbch_1_348',\n",
       "       'sbch_1_352', 'sbch_1_356', 'sbch_1_357', 'sbch_1_358',\n",
       "       'sbch_1_360', 'sbch_1_365', 'sbch_1_367', 'sbch_1_368',\n",
       "       'sbch_1_370', 'sbch_1_371', 'sbch_1_375', 'sbch_1_379',\n",
       "       'sbch_1_384', 'sbch_1_386', 'sbch_1_388', 'sbch_1_392',\n",
       "       'sbch_1_395', 'sbch_1_396', 'sbch_1_397', 'sbch_1_400',\n",
       "       'sbch_1_402', 'sbch_1_403', 'sbch_1_404', 'sbch_1_405',\n",
       "       'sbch_1_410', 'sbch_1_411', 'sbch_1_412', 'sbch_1_415',\n",
       "       'sbch_1_420', 'sbch_1_421', 'sbch_1_424', 'sbch_1_428',\n",
       "       'sbch_1_429', 'sbch_1_434', 'sbch_1_435', 'sbch_1_436',\n",
       "       'sbch_1_439', 'sbch_1_442', 'sbch_1_448', 'sbch_1_460',\n",
       "       'sbch_1_466', 'sbch_1_467', 'sbch_1_471', 'sbch_1_474',\n",
       "       'sbch_1_476', 'sbch_1_480', 'sbch_1_485', 'sbch_1_486',\n",
       "       'sbch_1_487', 'sbch_1_488', 'sbch_1_490', 'sbch_1_491',\n",
       "       'sbch_1_495', 'sbch_1_496', 'sbch_1_498', 'sbch_1_499',\n",
       "       'sbch_1_500', 'sbch_1_504', 'sbch_2_000', 'sbch_2_002',\n",
       "       'sbch_2_003', 'sbch_2_005', 'sbch_2_006', 'sbch_2_007',\n",
       "       'sbch_2_015', 'sbch_2_016', 'sbch_2_019', 'sbch_2_021',\n",
       "       'sbch_2_022', 'sbch_2_025', 'sbch_2_029', 'sbch_2_031',\n",
       "       'sbch_2_037', 'sbch_2_043', 'sbch_2_044', 'sbch_2_045',\n",
       "       'sbch_2_051', 'sbch_2_053', 'sbch_2_057', 'sbch_2_058',\n",
       "       'sbch_2_060', 'sbch_2_061', 'sbch_2_063', 'sbch_2_064',\n",
       "       'sbch_2_066', 'sbch_2_068', 'sbch_2_069', 'sbch_2_070',\n",
       "       'sbch_2_071', 'sbch_2_076', 'sbch_2_077', 'sbch_2_082',\n",
       "       'sbch_2_090', 'sbch_2_093', 'sbch_2_096', 'sbch_2_099',\n",
       "       'sbch_2_100', 'sbch_2_107', 'sbch_2_115', 'sbch_2_117',\n",
       "       'sbch_2_121', 'sbch_2_123', 'sbch_2_128', 'sbch_2_130',\n",
       "       'sbch_2_133', 'sbch_2_134', 'sbch_2_135', 'sbch_2_138',\n",
       "       'sbch_2_140', 'sbch_2_143', 'sbch_2_149', 'sbch_2_151',\n",
       "       'sbch_2_160', 'sbch_2_162', 'sbch_2_165', 'sbch_2_171',\n",
       "       'sbch_2_172', 'sbch_2_179', 'sbch_2_180', 'sbch_2_181',\n",
       "       'sbch_2_185', 'sbch_2_188', 'sbch_2_195', 'sbch_2_196',\n",
       "       'sbch_2_198', 'sbch_2_199', 'sbch_2_204', 'sbch_2_205',\n",
       "       'sbch_2_210', 'sbch_2_211', 'sbch_2_217', 'sbch_2_218',\n",
       "       'sbch_2_219', 'sbch_2_221', 'sbch_2_223', 'sbch_2_224',\n",
       "       'sbch_2_226', 'sbch_2_227', 'sbch_2_228', 'sbch_2_237',\n",
       "       'sbch_2_239', 'sbch_2_242', 'sbch_2_243', 'sbch_2_244',\n",
       "       'sbch_2_245', 'sbch_2_249', 'sbch_2_250', 'sbch_2_251',\n",
       "       'sbch_2_252', 'sbch_2_253', 'sbch_2_259', 'sbch_2_260',\n",
       "       'sbch_2_263', 'sbch_2_267', 'sbch_2_268', 'sbch_2_274',\n",
       "       'sbch_2_276', 'sbch_2_285', 'sbch_2_287', 'sbch_2_288',\n",
       "       'sbch_2_290', 'sbch_2_291', 'sbch_2_292', 'sbch_2_293',\n",
       "       'sbch_2_295', 'sbch_2_301', 'sbch_2_311', 'sbch_2_313',\n",
       "       'sbch_2_314', 'sbch_2_316', 'sbch_2_319', 'sbch_2_322',\n",
       "       'sbch_2_323', 'sbch_2_332', 'sbch_2_333', 'sbch_2_338',\n",
       "       'sbch_2_341', 'sbch_2_343', 'sbch_2_346', 'sbch_2_347',\n",
       "       'sbch_2_351', 'sbch_2_357', 'sbch_2_358', 'sbch_2_364',\n",
       "       'sbch_2_365', 'sbch_2_372', 'sbch_2_375', 'sbch_2_378',\n",
       "       'sbch_2_380', 'sbch_2_381', 'sbch_2_383', 'sbch_2_387',\n",
       "       'sbch_2_388', 'sbch_2_394', 'sbch_2_397', 'sbch_2_403',\n",
       "       'sbch_2_404', 'sbch_2_405', 'sbch_2_410', 'sbch_2_415',\n",
       "       'sbch_2_419', 'sbch_2_420', 'sbch_2_421', 'sbch_2_423',\n",
       "       'sbch_2_426', 'sbch_2_428', 'sbch_2_429', 'sbch_2_431',\n",
       "       'sbch_2_436', 'sbch_2_439', 'sbch_2_442', 'sbch_2_443',\n",
       "       'sbch_2_444', 'sbch_2_447', 'sbch_2_448', 'sbch_2_450',\n",
       "       'sbch_2_451', 'sbch_2_452', 'sbch_2_453', 'sbch_2_454',\n",
       "       'sbch_2_458', 'sbch_2_468', 'sbch_2_469', 'sbch_2_471',\n",
       "       'sbch_2_473', 'sbch_2_474', 'sbch_2_484', 'sbch_2_485',\n",
       "       'sbch_2_486', 'sbch_2_491', 'sbch_2_499', 'sbch_2_500',\n",
       "       'sbch_2_503', 'sbch_2_504', 'sbch_3_002', 'sbch_3_003',\n",
       "       'sbch_3_007', 'sbch_3_015', 'sbch_3_018', 'sbch_3_019',\n",
       "       'sbch_3_023', 'sbch_3_024', 'sbch_3_025', 'sbch_3_026',\n",
       "       'sbch_3_027', 'sbch_3_029', 'sbch_3_035', 'sbch_3_039',\n",
       "       'sbch_3_040', 'sbch_3_042', 'sbch_3_044', 'sbch_3_047',\n",
       "       'sbch_3_050', 'sbch_3_051', 'sbch_3_057', 'sbch_3_060',\n",
       "       'sbch_3_061', 'sbch_3_063', 'sbch_3_064', 'sbch_3_066',\n",
       "       'sbch_3_068', 'sbch_3_071', 'sbch_3_074', 'sbch_3_075',\n",
       "       'sbch_3_079', 'sbch_3_080', 'sbch_3_082', 'sbch_3_083',\n",
       "       'sbch_3_091', 'sbch_3_092', 'sbch_3_093', 'sbch_3_099',\n",
       "       'sbch_3_103', 'sbch_3_106', 'sbch_3_111', 'sbch_3_119',\n",
       "       'sbch_3_120', 'sbch_3_121', 'sbch_3_130', 'sbch_3_131',\n",
       "       'sbch_3_135', 'sbch_3_138', 'sbch_3_146', 'sbch_3_148',\n",
       "       'sbch_3_151', 'sbch_3_152', 'sbch_3_153', 'sbch_3_155',\n",
       "       'sbch_3_157', 'sbch_3_159', 'sbch_3_160', 'sbch_3_167',\n",
       "       'sbch_3_171', 'sbch_3_173', 'sbch_3_175', 'sbch_3_176',\n",
       "       'sbch_3_178', 'sbch_3_179', 'sbch_3_180', 'sbch_3_185',\n",
       "       'sbch_3_188', 'sbch_3_191', 'sbch_3_192', 'sbch_3_195',\n",
       "       'sbch_3_200', 'sbch_3_203', 'sbch_3_207', 'sbch_3_208',\n",
       "       'sbch_3_211', 'sbch_3_212', 'sbch_3_218', 'sbch_3_221',\n",
       "       'sbch_3_226', 'sbch_3_231', 'sbch_3_235', 'sbch_3_237',\n",
       "       'sbch_3_242', 'sbch_3_248', 'sbch_3_251', 'sbch_3_252',\n",
       "       'sbch_3_253', 'sbch_3_255', 'sbch_3_256', 'sbch_3_261',\n",
       "       'sbch_3_262', 'sbch_3_263', 'sbch_3_268', 'sbch_3_276',\n",
       "       'sbch_3_284', 'sbch_3_285', 'sbch_3_287', 'sbch_3_288',\n",
       "       'sbch_3_290', 'sbch_3_291', 'sbch_3_294', 'sbch_3_295',\n",
       "       'sbch_3_296', 'sbch_3_298', 'sbch_3_299', 'sbch_3_301',\n",
       "       'sbch_3_304', 'sbch_3_312', 'sbch_3_314', 'sbch_3_315',\n",
       "       'sbch_3_317', 'sbch_3_319', 'sbch_3_323', 'sbch_3_324',\n",
       "       'sbch_3_326', 'sbch_3_328', 'sbch_3_331', 'sbch_3_332',\n",
       "       'sbch_3_340', 'sbch_3_343', 'sbch_3_344', 'sbch_3_345',\n",
       "       'sbch_3_347', 'sbch_3_348', 'sbch_3_351', 'sbch_3_354',\n",
       "       'sbch_3_355', 'sbch_3_364', 'sbch_3_365', 'sbch_3_368',\n",
       "       'sbch_3_372', 'sbch_3_375', 'sbch_3_377', 'sbch_3_380',\n",
       "       'sbch_3_384', 'sbch_3_388', 'sbch_3_390', 'sbch_3_396',\n",
       "       'sbch_3_399', 'sbch_3_403', 'sbch_3_408', 'sbch_3_418',\n",
       "       'sbch_3_419', 'sbch_3_422', 'sbch_3_424', 'sbch_3_426',\n",
       "       'sbch_3_427', 'sbch_3_429', 'sbch_3_432', 'sbch_3_434',\n",
       "       'sbch_3_436', 'sbch_3_440', 'sbch_3_444', 'sbch_3_445',\n",
       "       'sbch_3_448', 'sbch_3_450', 'sbch_3_451', 'sbch_3_459',\n",
       "       'sbch_3_460', 'sbch_3_464', 'sbch_3_466', 'sbch_3_473',\n",
       "       'sbch_3_474', 'sbch_3_475', 'sbch_3_476', 'sbch_3_480',\n",
       "       'sbch_3_483', 'sbch_3_488', 'sbch_3_490', 'sbch_3_492',\n",
       "       'sbch_3_496', 'sbch_3_500', 'sbch_3_503', 'sbch_3_504',\n",
       "       'sbch_3_505'], dtype='<U10')"
      ]
     },
     "execution_count": 32,
     "metadata": {},
     "output_type": "execute_result"
    }
   ],
   "source": [
    "## Check which channels are cut for low noise\n",
    "aman.flags.has_cuts(flags=['low_noise'])"
   ]
  },
  {
   "cell_type": "code",
   "execution_count": null,
   "id": "5a14671e-7f0a-4a98-8de4-35fb028d2a6a",
   "metadata": {},
   "outputs": [],
   "source": []
  },
  {
   "cell_type": "code",
   "execution_count": null,
   "id": "04a5a2bd-37b4-4e39-9f73-b307b7447419",
   "metadata": {},
   "outputs": [],
   "source": []
  }
 ],
 "metadata": {
  "kernelspec": {
   "display_name": "soenv_20220401",
   "language": "python",
   "name": "soenv_20220401"
  },
  "language_info": {
   "codemirror_mode": {
    "name": "ipython",
    "version": 3
   },
   "file_extension": ".py",
   "mimetype": "text/x-python",
   "name": "python",
   "nbconvert_exporter": "python",
   "pygments_lexer": "ipython3",
   "version": "3.8.10"
  }
 },
 "nbformat": 4,
 "nbformat_minor": 5
}
